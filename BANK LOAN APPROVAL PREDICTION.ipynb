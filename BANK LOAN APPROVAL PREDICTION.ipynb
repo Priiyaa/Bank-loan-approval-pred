{
 "cells": [
  {
   "cell_type": "code",
   "execution_count": 2,
   "id": "b4ad3d57",
   "metadata": {},
   "outputs": [
    {
     "name": "stdout",
     "output_type": "stream",
     "text": [
      "Requirement already satisfied: tensorflow<2.11 in c:\\users\\yarim\\anaconda3\\lib\\site-packages (2.10.1)\n",
      "Requirement already satisfied: setuptools in c:\\users\\yarim\\anaconda3\\lib\\site-packages (from tensorflow<2.11) (61.2.0)\n",
      "Requirement already satisfied: flatbuffers>=2.0 in c:\\users\\yarim\\anaconda3\\lib\\site-packages (from tensorflow<2.11) (23.3.3)\n",
      "Requirement already satisfied: h5py>=2.9.0 in c:\\users\\yarim\\anaconda3\\lib\\site-packages (from tensorflow<2.11) (3.6.0)\n",
      "Requirement already satisfied: keras<2.11,>=2.10.0 in c:\\users\\yarim\\anaconda3\\lib\\site-packages (from tensorflow<2.11) (2.10.0)\n",
      "Requirement already satisfied: astunparse>=1.6.0 in c:\\users\\yarim\\anaconda3\\lib\\site-packages (from tensorflow<2.11) (1.6.3)\n",
      "Requirement already satisfied: tensorflow-estimator<2.11,>=2.10.0 in c:\\users\\yarim\\anaconda3\\lib\\site-packages (from tensorflow<2.11) (2.10.0)\n",
      "Requirement already satisfied: packaging in c:\\users\\yarim\\anaconda3\\lib\\site-packages (from tensorflow<2.11) (21.3)\n",
      "Requirement already satisfied: grpcio<2.0,>=1.24.3 in c:\\users\\yarim\\anaconda3\\lib\\site-packages (from tensorflow<2.11) (1.42.0)\n",
      "Requirement already satisfied: libclang>=13.0.0 in c:\\users\\yarim\\anaconda3\\lib\\site-packages (from tensorflow<2.11) (16.0.0)\n",
      "Requirement already satisfied: keras-preprocessing>=1.1.1 in c:\\users\\yarim\\anaconda3\\lib\\site-packages (from tensorflow<2.11) (1.1.2)\n",
      "Requirement already satisfied: termcolor>=1.1.0 in c:\\users\\yarim\\anaconda3\\lib\\site-packages (from tensorflow<2.11) (2.2.0)\n",
      "Requirement already satisfied: typing-extensions>=3.6.6 in c:\\users\\yarim\\anaconda3\\lib\\site-packages (from tensorflow<2.11) (4.1.1)\n",
      "Requirement already satisfied: google-pasta>=0.1.1 in c:\\users\\yarim\\anaconda3\\lib\\site-packages (from tensorflow<2.11) (0.2.0)\n",
      "Requirement already satisfied: wrapt>=1.11.0 in c:\\users\\yarim\\anaconda3\\lib\\site-packages (from tensorflow<2.11) (1.12.1)\n",
      "Requirement already satisfied: absl-py>=1.0.0 in c:\\users\\yarim\\anaconda3\\lib\\site-packages (from tensorflow<2.11) (1.4.0)\n",
      "Requirement already satisfied: six>=1.12.0 in c:\\users\\yarim\\anaconda3\\lib\\site-packages (from tensorflow<2.11) (1.16.0)\n",
      "Requirement already satisfied: protobuf<3.20,>=3.9.2 in c:\\users\\yarim\\anaconda3\\lib\\site-packages (from tensorflow<2.11) (3.19.1)\n",
      "Requirement already satisfied: tensorflow-io-gcs-filesystem>=0.23.1 in c:\\users\\yarim\\anaconda3\\lib\\site-packages (from tensorflow<2.11) (0.31.0)\n",
      "Requirement already satisfied: tensorboard<2.11,>=2.10 in c:\\users\\yarim\\anaconda3\\lib\\site-packages (from tensorflow<2.11) (2.10.1)\n",
      "Requirement already satisfied: opt-einsum>=2.3.2 in c:\\users\\yarim\\anaconda3\\lib\\site-packages (from tensorflow<2.11) (3.3.0)\n",
      "Requirement already satisfied: gast<=0.4.0,>=0.2.1 in c:\\users\\yarim\\anaconda3\\lib\\site-packages (from tensorflow<2.11) (0.4.0)\n",
      "Requirement already satisfied: numpy>=1.20 in c:\\users\\yarim\\anaconda3\\lib\\site-packages (from tensorflow<2.11) (1.21.5)\n",
      "Requirement already satisfied: wheel<1.0,>=0.23.0 in c:\\users\\yarim\\anaconda3\\lib\\site-packages (from astunparse>=1.6.0->tensorflow<2.11) (0.37.1)\n",
      "Requirement already satisfied: markdown>=2.6.8 in c:\\users\\yarim\\anaconda3\\lib\\site-packages (from tensorboard<2.11,>=2.10->tensorflow<2.11) (3.3.4)\n",
      "Requirement already satisfied: google-auth-oauthlib<0.5,>=0.4.1 in c:\\users\\yarim\\anaconda3\\lib\\site-packages (from tensorboard<2.11,>=2.10->tensorflow<2.11) (0.4.6)\n",
      "Requirement already satisfied: tensorboard-data-server<0.7.0,>=0.6.0 in c:\\users\\yarim\\anaconda3\\lib\\site-packages (from tensorboard<2.11,>=2.10->tensorflow<2.11) (0.6.1)\n",
      "Requirement already satisfied: requests<3,>=2.21.0 in c:\\users\\yarim\\anaconda3\\lib\\site-packages (from tensorboard<2.11,>=2.10->tensorflow<2.11) (2.27.1)\n",
      "Requirement already satisfied: werkzeug>=1.0.1 in c:\\users\\yarim\\anaconda3\\lib\\site-packages (from tensorboard<2.11,>=2.10->tensorflow<2.11) (2.0.3)\n",
      "Requirement already satisfied: tensorboard-plugin-wit>=1.6.0 in c:\\users\\yarim\\anaconda3\\lib\\site-packages (from tensorboard<2.11,>=2.10->tensorflow<2.11) (1.8.1)\n",
      "Requirement already satisfied: google-auth<3,>=1.6.3 in c:\\users\\yarim\\anaconda3\\lib\\site-packages (from tensorboard<2.11,>=2.10->tensorflow<2.11) (1.33.0)\n",
      "Requirement already satisfied: cachetools<5.0,>=2.0.0 in c:\\users\\yarim\\anaconda3\\lib\\site-packages (from google-auth<3,>=1.6.3->tensorboard<2.11,>=2.10->tensorflow<2.11) (4.2.2)\n",
      "Requirement already satisfied: pyasn1-modules>=0.2.1 in c:\\users\\yarim\\anaconda3\\lib\\site-packages (from google-auth<3,>=1.6.3->tensorboard<2.11,>=2.10->tensorflow<2.11) (0.2.8)\n",
      "Requirement already satisfied: rsa<5,>=3.1.4 in c:\\users\\yarim\\anaconda3\\lib\\site-packages (from google-auth<3,>=1.6.3->tensorboard<2.11,>=2.10->tensorflow<2.11) (4.7.2)\n",
      "Requirement already satisfied: requests-oauthlib>=0.7.0 in c:\\users\\yarim\\anaconda3\\lib\\site-packages (from google-auth-oauthlib<0.5,>=0.4.1->tensorboard<2.11,>=2.10->tensorflow<2.11) (1.3.1)\n",
      "Requirement already satisfied: pyasn1<0.5.0,>=0.4.6 in c:\\users\\yarim\\anaconda3\\lib\\site-packages (from pyasn1-modules>=0.2.1->google-auth<3,>=1.6.3->tensorboard<2.11,>=2.10->tensorflow<2.11) (0.4.8)\n",
      "Requirement already satisfied: charset-normalizer~=2.0.0 in c:\\users\\yarim\\anaconda3\\lib\\site-packages (from requests<3,>=2.21.0->tensorboard<2.11,>=2.10->tensorflow<2.11) (2.0.4)\n",
      "Requirement already satisfied: idna<4,>=2.5 in c:\\users\\yarim\\anaconda3\\lib\\site-packages (from requests<3,>=2.21.0->tensorboard<2.11,>=2.10->tensorflow<2.11) (3.3)\n",
      "Requirement already satisfied: certifi>=2017.4.17 in c:\\users\\yarim\\anaconda3\\lib\\site-packages (from requests<3,>=2.21.0->tensorboard<2.11,>=2.10->tensorflow<2.11) (2021.10.8)\n",
      "Requirement already satisfied: urllib3<1.27,>=1.21.1 in c:\\users\\yarim\\anaconda3\\lib\\site-packages (from requests<3,>=2.21.0->tensorboard<2.11,>=2.10->tensorflow<2.11) (1.26.9)\n",
      "Requirement already satisfied: oauthlib>=3.0.0 in c:\\users\\yarim\\anaconda3\\lib\\site-packages (from requests-oauthlib>=0.7.0->google-auth-oauthlib<0.5,>=0.4.1->tensorboard<2.11,>=2.10->tensorflow<2.11) (3.2.2)\n",
      "Requirement already satisfied: pyparsing!=3.0.5,>=2.0.2 in c:\\users\\yarim\\anaconda3\\lib\\site-packages (from packaging->tensorflow<2.11) (3.0.4)\n",
      "Note: you may need to restart the kernel to use updated packages.\n"
     ]
    }
   ],
   "source": [
    "pip install \"tensorflow<2.11\""
   ]
  },
  {
   "cell_type": "code",
   "execution_count": 2,
   "id": "a69e9538",
   "metadata": {},
   "outputs": [
    {
     "name": "stdout",
     "output_type": "stream",
     "text": [
      "Requirement already satisfied: seaborn in c:\\users\\yarim\\anaconda3\\lib\\site-packages (0.11.2)\n",
      "Requirement already satisfied: matplotlib>=2.2 in c:\\users\\yarim\\anaconda3\\lib\\site-packages (from seaborn) (3.5.1)\n",
      "Requirement already satisfied: scipy>=1.0 in c:\\users\\yarim\\anaconda3\\lib\\site-packages (from seaborn) (1.7.3)\n",
      "Requirement already satisfied: pandas>=0.23 in c:\\users\\yarim\\anaconda3\\lib\\site-packages (from seaborn) (1.4.2)\n",
      "Requirement already satisfied: numpy>=1.15 in c:\\users\\yarim\\anaconda3\\lib\\site-packages (from seaborn) (1.21.5)\n",
      "Requirement already satisfied: kiwisolver>=1.0.1 in c:\\users\\yarim\\anaconda3\\lib\\site-packages (from matplotlib>=2.2->seaborn) (1.3.2)\n",
      "Requirement already satisfied: python-dateutil>=2.7 in c:\\users\\yarim\\anaconda3\\lib\\site-packages (from matplotlib>=2.2->seaborn) (2.8.2)\n",
      "Requirement already satisfied: packaging>=20.0 in c:\\users\\yarim\\anaconda3\\lib\\site-packages (from matplotlib>=2.2->seaborn) (21.3)\n",
      "Requirement already satisfied: pillow>=6.2.0 in c:\\users\\yarim\\anaconda3\\lib\\site-packages (from matplotlib>=2.2->seaborn) (9.0.1)\n",
      "Requirement already satisfied: cycler>=0.10 in c:\\users\\yarim\\anaconda3\\lib\\site-packages (from matplotlib>=2.2->seaborn) (0.11.0)\n",
      "Requirement already satisfied: pyparsing>=2.2.1 in c:\\users\\yarim\\anaconda3\\lib\\site-packages (from matplotlib>=2.2->seaborn) (3.0.4)\n",
      "Requirement already satisfied: fonttools>=4.22.0 in c:\\users\\yarim\\anaconda3\\lib\\site-packages (from matplotlib>=2.2->seaborn) (4.25.0)\n",
      "Requirement already satisfied: pytz>=2020.1 in c:\\users\\yarim\\anaconda3\\lib\\site-packages (from pandas>=0.23->seaborn) (2021.3)\n",
      "Requirement already satisfied: six>=1.5 in c:\\users\\yarim\\anaconda3\\lib\\site-packages (from python-dateutil>=2.7->matplotlib>=2.2->seaborn) (1.16.0)\n",
      "Note: you may need to restart the kernel to use updated packages.\n"
     ]
    }
   ],
   "source": [
    "pip install seaborn"
   ]
  },
  {
   "cell_type": "code",
   "execution_count": 148,
   "id": "eadc799b",
   "metadata": {},
   "outputs": [],
   "source": [
    "import warnings\n",
    "import numpy as np\n",
    "import pandas as pd\n",
    "import tensorflow as tf\n",
    "import seaborn as sns\n",
    "import matplotlib.pyplot as plt\n",
    "from sklearn.impute import SimpleImputer\n",
    "from sklearn.preprocessing import LabelEncoder\n",
    "from sklearn.ensemble import RandomForestRegressor\n",
    "from sklearn.linear_model import LinearRegression\n",
    "from sklearn.tree import DecisionTreeRegressor\n",
    "import statsmodels.api as sm\n",
    "from sklearn import linear_model\n",
    "from sklearn.model_selection import train_test_split\n",
    "from sklearn.metrics import mean_absolute_error,r2_score,mean_squared_error\n",
    "from sklearn.feature_selection import RFE\n",
    "from tensorflow.keras.models import Sequential\n",
    "from tensorflow.keras.layers import Dense\n",
    "import logging\n",
    "warnings.filterwarnings('ignore')"
   ]
  },
  {
   "cell_type": "code",
   "execution_count": 149,
   "id": "a15a5ac3",
   "metadata": {},
   "outputs": [],
   "source": [
    "data = pd.read_csv ('credit_train.csv') "
   ]
  },
  {
   "cell_type": "code",
   "execution_count": 150,
   "id": "7f2802da",
   "metadata": {},
   "outputs": [
    {
     "data": {
      "text/html": [
       "<div>\n",
       "<style scoped>\n",
       "    .dataframe tbody tr th:only-of-type {\n",
       "        vertical-align: middle;\n",
       "    }\n",
       "\n",
       "    .dataframe tbody tr th {\n",
       "        vertical-align: top;\n",
       "    }\n",
       "\n",
       "    .dataframe thead th {\n",
       "        text-align: right;\n",
       "    }\n",
       "</style>\n",
       "<table border=\"1\" class=\"dataframe\">\n",
       "  <thead>\n",
       "    <tr style=\"text-align: right;\">\n",
       "      <th></th>\n",
       "      <th>Loan ID</th>\n",
       "      <th>Customer ID</th>\n",
       "      <th>Loan Status</th>\n",
       "      <th>Current Loan Amount</th>\n",
       "      <th>Term</th>\n",
       "      <th>Credit Score</th>\n",
       "      <th>Annual Income</th>\n",
       "      <th>Years in current job</th>\n",
       "      <th>Home Ownership</th>\n",
       "      <th>Purpose</th>\n",
       "      <th>Monthly Debt</th>\n",
       "      <th>Years of Credit History</th>\n",
       "      <th>Months since last delinquent</th>\n",
       "      <th>Number of Open Accounts</th>\n",
       "      <th>Number of Credit Problems</th>\n",
       "      <th>Current Credit Balance</th>\n",
       "      <th>Maximum Open Credit</th>\n",
       "      <th>Bankruptcies</th>\n",
       "      <th>Tax Liens</th>\n",
       "    </tr>\n",
       "  </thead>\n",
       "  <tbody>\n",
       "    <tr>\n",
       "      <th>0</th>\n",
       "      <td>14dd8831-6af5-400b-83ec-68e61888a048</td>\n",
       "      <td>981165ec-3274-42f5-a3b4-d104041a9ca9</td>\n",
       "      <td>Fully Paid</td>\n",
       "      <td>445412.0</td>\n",
       "      <td>Short Term</td>\n",
       "      <td>709.0</td>\n",
       "      <td>1167493.0</td>\n",
       "      <td>8 years</td>\n",
       "      <td>Home Mortgage</td>\n",
       "      <td>Home Improvements</td>\n",
       "      <td>5214.74</td>\n",
       "      <td>17.2</td>\n",
       "      <td>NaN</td>\n",
       "      <td>6.0</td>\n",
       "      <td>1.0</td>\n",
       "      <td>228190.0</td>\n",
       "      <td>416746.0</td>\n",
       "      <td>1.0</td>\n",
       "      <td>0.0</td>\n",
       "    </tr>\n",
       "    <tr>\n",
       "      <th>1</th>\n",
       "      <td>4771cc26-131a-45db-b5aa-537ea4ba5342</td>\n",
       "      <td>2de017a3-2e01-49cb-a581-08169e83be29</td>\n",
       "      <td>Fully Paid</td>\n",
       "      <td>262328.0</td>\n",
       "      <td>Short Term</td>\n",
       "      <td>NaN</td>\n",
       "      <td>NaN</td>\n",
       "      <td>10+ years</td>\n",
       "      <td>Home Mortgage</td>\n",
       "      <td>Debt Consolidation</td>\n",
       "      <td>33295.98</td>\n",
       "      <td>21.1</td>\n",
       "      <td>8.0</td>\n",
       "      <td>35.0</td>\n",
       "      <td>0.0</td>\n",
       "      <td>229976.0</td>\n",
       "      <td>850784.0</td>\n",
       "      <td>0.0</td>\n",
       "      <td>0.0</td>\n",
       "    </tr>\n",
       "    <tr>\n",
       "      <th>2</th>\n",
       "      <td>4eed4e6a-aa2f-4c91-8651-ce984ee8fb26</td>\n",
       "      <td>5efb2b2b-bf11-4dfd-a572-3761a2694725</td>\n",
       "      <td>Fully Paid</td>\n",
       "      <td>99999999.0</td>\n",
       "      <td>Short Term</td>\n",
       "      <td>741.0</td>\n",
       "      <td>2231892.0</td>\n",
       "      <td>8 years</td>\n",
       "      <td>Own Home</td>\n",
       "      <td>Debt Consolidation</td>\n",
       "      <td>29200.53</td>\n",
       "      <td>14.9</td>\n",
       "      <td>29.0</td>\n",
       "      <td>18.0</td>\n",
       "      <td>1.0</td>\n",
       "      <td>297996.0</td>\n",
       "      <td>750090.0</td>\n",
       "      <td>0.0</td>\n",
       "      <td>0.0</td>\n",
       "    </tr>\n",
       "    <tr>\n",
       "      <th>3</th>\n",
       "      <td>77598f7b-32e7-4e3b-a6e5-06ba0d98fe8a</td>\n",
       "      <td>e777faab-98ae-45af-9a86-7ce5b33b1011</td>\n",
       "      <td>Fully Paid</td>\n",
       "      <td>347666.0</td>\n",
       "      <td>Long Term</td>\n",
       "      <td>721.0</td>\n",
       "      <td>806949.0</td>\n",
       "      <td>3 years</td>\n",
       "      <td>Own Home</td>\n",
       "      <td>Debt Consolidation</td>\n",
       "      <td>8741.90</td>\n",
       "      <td>12.0</td>\n",
       "      <td>NaN</td>\n",
       "      <td>9.0</td>\n",
       "      <td>0.0</td>\n",
       "      <td>256329.0</td>\n",
       "      <td>386958.0</td>\n",
       "      <td>0.0</td>\n",
       "      <td>0.0</td>\n",
       "    </tr>\n",
       "    <tr>\n",
       "      <th>4</th>\n",
       "      <td>d4062e70-befa-4995-8643-a0de73938182</td>\n",
       "      <td>81536ad9-5ccf-4eb8-befb-47a4d608658e</td>\n",
       "      <td>Fully Paid</td>\n",
       "      <td>176220.0</td>\n",
       "      <td>Short Term</td>\n",
       "      <td>NaN</td>\n",
       "      <td>NaN</td>\n",
       "      <td>5 years</td>\n",
       "      <td>Rent</td>\n",
       "      <td>Debt Consolidation</td>\n",
       "      <td>20639.70</td>\n",
       "      <td>6.1</td>\n",
       "      <td>NaN</td>\n",
       "      <td>15.0</td>\n",
       "      <td>0.0</td>\n",
       "      <td>253460.0</td>\n",
       "      <td>427174.0</td>\n",
       "      <td>0.0</td>\n",
       "      <td>0.0</td>\n",
       "    </tr>\n",
       "  </tbody>\n",
       "</table>\n",
       "</div>"
      ],
      "text/plain": [
       "                                Loan ID                           Customer ID  \\\n",
       "0  14dd8831-6af5-400b-83ec-68e61888a048  981165ec-3274-42f5-a3b4-d104041a9ca9   \n",
       "1  4771cc26-131a-45db-b5aa-537ea4ba5342  2de017a3-2e01-49cb-a581-08169e83be29   \n",
       "2  4eed4e6a-aa2f-4c91-8651-ce984ee8fb26  5efb2b2b-bf11-4dfd-a572-3761a2694725   \n",
       "3  77598f7b-32e7-4e3b-a6e5-06ba0d98fe8a  e777faab-98ae-45af-9a86-7ce5b33b1011   \n",
       "4  d4062e70-befa-4995-8643-a0de73938182  81536ad9-5ccf-4eb8-befb-47a4d608658e   \n",
       "\n",
       "  Loan Status  Current Loan Amount        Term  Credit Score  Annual Income  \\\n",
       "0  Fully Paid             445412.0  Short Term         709.0      1167493.0   \n",
       "1  Fully Paid             262328.0  Short Term           NaN            NaN   \n",
       "2  Fully Paid           99999999.0  Short Term         741.0      2231892.0   \n",
       "3  Fully Paid             347666.0   Long Term         721.0       806949.0   \n",
       "4  Fully Paid             176220.0  Short Term           NaN            NaN   \n",
       "\n",
       "  Years in current job Home Ownership             Purpose  Monthly Debt  \\\n",
       "0              8 years  Home Mortgage   Home Improvements       5214.74   \n",
       "1            10+ years  Home Mortgage  Debt Consolidation      33295.98   \n",
       "2              8 years       Own Home  Debt Consolidation      29200.53   \n",
       "3              3 years       Own Home  Debt Consolidation       8741.90   \n",
       "4              5 years           Rent  Debt Consolidation      20639.70   \n",
       "\n",
       "   Years of Credit History  Months since last delinquent  \\\n",
       "0                     17.2                           NaN   \n",
       "1                     21.1                           8.0   \n",
       "2                     14.9                          29.0   \n",
       "3                     12.0                           NaN   \n",
       "4                      6.1                           NaN   \n",
       "\n",
       "   Number of Open Accounts  Number of Credit Problems  Current Credit Balance  \\\n",
       "0                      6.0                        1.0                228190.0   \n",
       "1                     35.0                        0.0                229976.0   \n",
       "2                     18.0                        1.0                297996.0   \n",
       "3                      9.0                        0.0                256329.0   \n",
       "4                     15.0                        0.0                253460.0   \n",
       "\n",
       "   Maximum Open Credit  Bankruptcies  Tax Liens  \n",
       "0             416746.0           1.0        0.0  \n",
       "1             850784.0           0.0        0.0  \n",
       "2             750090.0           0.0        0.0  \n",
       "3             386958.0           0.0        0.0  \n",
       "4             427174.0           0.0        0.0  "
      ]
     },
     "execution_count": 150,
     "metadata": {},
     "output_type": "execute_result"
    }
   ],
   "source": [
    "data.head()"
   ]
  },
  {
   "cell_type": "code",
   "execution_count": 151,
   "id": "40785655",
   "metadata": {},
   "outputs": [],
   "source": [
    "plt.rcParams['axes.facecolor'] = 'Beige'  # changed matplotlib axes facecolor to beige by using rc (runtime configuration) parameter"
   ]
  },
  {
   "cell_type": "markdown",
   "id": "f3c75c12",
   "metadata": {},
   "source": [
    "# Exploratory Data Analysis (EDA)"
   ]
  },
  {
   "cell_type": "code",
   "execution_count": 152,
   "id": "31b98ab4",
   "metadata": {},
   "outputs": [
    {
     "data": {
      "text/plain": [
       "(100514, 19)"
      ]
     },
     "execution_count": 152,
     "metadata": {},
     "output_type": "execute_result"
    }
   ],
   "source": [
    "data.shape # 19 cloumns, 1,00,514 rows"
   ]
  },
  {
   "cell_type": "code",
   "execution_count": 153,
   "id": "942da360",
   "metadata": {},
   "outputs": [
    {
     "name": "stdout",
     "output_type": "stream",
     "text": [
      "<class 'pandas.core.frame.DataFrame'>\n",
      "RangeIndex: 100514 entries, 0 to 100513\n",
      "Data columns (total 19 columns):\n",
      " #   Column                        Non-Null Count   Dtype  \n",
      "---  ------                        --------------   -----  \n",
      " 0   Loan ID                       100000 non-null  object \n",
      " 1   Customer ID                   100000 non-null  object \n",
      " 2   Loan Status                   100000 non-null  object \n",
      " 3   Current Loan Amount           100000 non-null  float64\n",
      " 4   Term                          100000 non-null  object \n",
      " 5   Credit Score                  80846 non-null   float64\n",
      " 6   Annual Income                 80846 non-null   float64\n",
      " 7   Years in current job          95778 non-null   object \n",
      " 8   Home Ownership                100000 non-null  object \n",
      " 9   Purpose                       100000 non-null  object \n",
      " 10  Monthly Debt                  100000 non-null  float64\n",
      " 11  Years of Credit History       100000 non-null  float64\n",
      " 12  Months since last delinquent  46859 non-null   float64\n",
      " 13  Number of Open Accounts       100000 non-null  float64\n",
      " 14  Number of Credit Problems     100000 non-null  float64\n",
      " 15  Current Credit Balance        100000 non-null  float64\n",
      " 16  Maximum Open Credit           99998 non-null   float64\n",
      " 17  Bankruptcies                  99796 non-null   float64\n",
      " 18  Tax Liens                     99990 non-null   float64\n",
      "dtypes: float64(12), object(7)\n",
      "memory usage: 14.6+ MB\n"
     ]
    }
   ],
   "source": [
    "data.info()"
   ]
  },
  {
   "cell_type": "code",
   "execution_count": 154,
   "id": "493ace45",
   "metadata": {},
   "outputs": [
    {
     "data": {
      "image/png": "[encoded data removed]",
      "text/plain": [
       "<Figure size 1440x720 with 12 Axes>"
      ]
     },
     "metadata": {},
     "output_type": "display_data"
    }
   ],
   "source": [
    "data.hist(bins=25,figsize=(20,10)); "
   ]
  },
  {
   "cell_type": "code",
   "execution_count": 155,
   "id": "ae41def4",
   "metadata": {},
   "outputs": [
    {
     "data": {
      "image/png": "[encoded data removed]",
      "text/plain": [
       "<Figure size 864x288 with 1 Axes>"
      ]
     },
     "metadata": {},
     "output_type": "display_data"
    }
   ],
   "source": [
    "plt.figure(figsize=(12,4))\n",
    "sns.countplot(x='Purpose',data=data,hue='Loan Status')\n",
    "plt.xticks(rotation=45)\n",
    "plt.title('Purpose of taking Loan',fontdict={'fontsize':20})\n",
    "plt.show()\n"
   ]
  },
  {
   "cell_type": "code",
   "execution_count": 156,
   "id": "0991aa6b",
   "metadata": {},
   "outputs": [
    {
     "data": {
      "text/plain": [
       "<AxesSubplot:xlabel='Loan Status', ylabel='count'>"
      ]
     },
     "execution_count": 156,
     "metadata": {},
     "output_type": "execute_result"
    },
    {
     "data": {
      "image/png": "[encoded data removed]",
      "text/plain": [
       "<Figure size 842.4x595.44 with 1 Axes>"
      ]
     },
     "metadata": {},
     "output_type": "display_data"
    }
   ],
   "source": [
    "sns.countplot(x='Loan Status', data = data)"
   ]
  },
  {
   "cell_type": "code",
   "execution_count": 157,
   "id": "96b38d5a",
   "metadata": {},
   "outputs": [
    {
     "data": {
      "image/png": "[encoded data removed]",
      "text/plain": [
       "<Figure size 432x432 with 1 Axes>"
      ]
     },
     "metadata": {},
     "output_type": "display_data"
    }
   ],
   "source": [
    "plt.figure(figsize=(6,6))\n",
    "plt.pie(x=data['Term'].value_counts(),labels=['short term','long term'],explode=[0,0.09])\n",
    "plt.title('Time Period of Taking Loan',fontdict={'fontsize':20})\n",
    "plt.show()"
   ]
  },
  {
   "cell_type": "markdown",
   "id": "66d4e1c9",
   "metadata": {},
   "source": [
    "# CORRELATION for understanding data"
   ]
  },
  {
   "cell_type": "code",
   "execution_count": 158,
   "id": "accaffa3",
   "metadata": {},
   "outputs": [
    {
     "data": {
      "text/html": [
       "<div>\n",
       "<style scoped>\n",
       "    .dataframe tbody tr th:only-of-type {\n",
       "        vertical-align: middle;\n",
       "    }\n",
       "\n",
       "    .dataframe tbody tr th {\n",
       "        vertical-align: top;\n",
       "    }\n",
       "\n",
       "    .dataframe thead th {\n",
       "        text-align: right;\n",
       "    }\n",
       "</style>\n",
       "<table border=\"1\" class=\"dataframe\">\n",
       "  <thead>\n",
       "    <tr style=\"text-align: right;\">\n",
       "      <th></th>\n",
       "      <th>Current Loan Amount</th>\n",
       "      <th>Credit Score</th>\n",
       "      <th>Annual Income</th>\n",
       "      <th>Monthly Debt</th>\n",
       "      <th>Years of Credit History</th>\n",
       "      <th>Months since last delinquent</th>\n",
       "      <th>Number of Open Accounts</th>\n",
       "      <th>Number of Credit Problems</th>\n",
       "      <th>Current Credit Balance</th>\n",
       "      <th>Maximum Open Credit</th>\n",
       "      <th>Bankruptcies</th>\n",
       "      <th>Tax Liens</th>\n",
       "    </tr>\n",
       "  </thead>\n",
       "  <tbody>\n",
       "    <tr>\n",
       "      <th>Current Loan Amount</th>\n",
       "      <td>1.000000</td>\n",
       "      <td>-0.096652</td>\n",
       "      <td>0.013112</td>\n",
       "      <td>-0.006643</td>\n",
       "      <td>0.019282</td>\n",
       "      <td>0.011248</td>\n",
       "      <td>0.001478</td>\n",
       "      <td>-0.002795</td>\n",
       "      <td>0.003880</td>\n",
       "      <td>-0.001271</td>\n",
       "      <td>-0.000608</td>\n",
       "      <td>-0.002048</td>\n",
       "    </tr>\n",
       "    <tr>\n",
       "      <th>Credit Score</th>\n",
       "      <td>-0.096652</td>\n",
       "      <td>1.000000</td>\n",
       "      <td>-0.017078</td>\n",
       "      <td>-0.001674</td>\n",
       "      <td>-0.009720</td>\n",
       "      <td>-0.003739</td>\n",
       "      <td>0.006435</td>\n",
       "      <td>-0.003022</td>\n",
       "      <td>-0.000104</td>\n",
       "      <td>-0.002827</td>\n",
       "      <td>-0.006935</td>\n",
       "      <td>0.005146</td>\n",
       "    </tr>\n",
       "    <tr>\n",
       "      <th>Annual Income</th>\n",
       "      <td>0.013112</td>\n",
       "      <td>-0.017078</td>\n",
       "      <td>1.000000</td>\n",
       "      <td>0.485230</td>\n",
       "      <td>0.161669</td>\n",
       "      <td>-0.077577</td>\n",
       "      <td>0.146175</td>\n",
       "      <td>-0.017006</td>\n",
       "      <td>0.312340</td>\n",
       "      <td>0.053064</td>\n",
       "      <td>-0.047672</td>\n",
       "      <td>0.040167</td>\n",
       "    </tr>\n",
       "    <tr>\n",
       "      <th>Monthly Debt</th>\n",
       "      <td>-0.006643</td>\n",
       "      <td>-0.001674</td>\n",
       "      <td>0.485230</td>\n",
       "      <td>1.000000</td>\n",
       "      <td>0.199289</td>\n",
       "      <td>-0.056818</td>\n",
       "      <td>0.411353</td>\n",
       "      <td>-0.055383</td>\n",
       "      <td>0.481348</td>\n",
       "      <td>0.039268</td>\n",
       "      <td>-0.078979</td>\n",
       "      <td>0.020119</td>\n",
       "    </tr>\n",
       "    <tr>\n",
       "      <th>Years of Credit History</th>\n",
       "      <td>0.019282</td>\n",
       "      <td>-0.009720</td>\n",
       "      <td>0.161669</td>\n",
       "      <td>0.199289</td>\n",
       "      <td>1.000000</td>\n",
       "      <td>-0.044292</td>\n",
       "      <td>0.132349</td>\n",
       "      <td>0.061588</td>\n",
       "      <td>0.208470</td>\n",
       "      <td>0.031124</td>\n",
       "      <td>0.066247</td>\n",
       "      <td>0.017245</td>\n",
       "    </tr>\n",
       "    <tr>\n",
       "      <th>Months since last delinquent</th>\n",
       "      <td>0.011248</td>\n",
       "      <td>-0.003739</td>\n",
       "      <td>-0.077577</td>\n",
       "      <td>-0.056818</td>\n",
       "      <td>-0.044292</td>\n",
       "      <td>1.000000</td>\n",
       "      <td>-0.032569</td>\n",
       "      <td>0.104642</td>\n",
       "      <td>-0.028662</td>\n",
       "      <td>-0.008785</td>\n",
       "      <td>0.123951</td>\n",
       "      <td>0.012624</td>\n",
       "    </tr>\n",
       "    <tr>\n",
       "      <th>Number of Open Accounts</th>\n",
       "      <td>0.001478</td>\n",
       "      <td>0.006435</td>\n",
       "      <td>0.146175</td>\n",
       "      <td>0.411353</td>\n",
       "      <td>0.132349</td>\n",
       "      <td>-0.032569</td>\n",
       "      <td>1.000000</td>\n",
       "      <td>-0.013995</td>\n",
       "      <td>0.228136</td>\n",
       "      <td>0.031341</td>\n",
       "      <td>-0.024575</td>\n",
       "      <td>0.006545</td>\n",
       "    </tr>\n",
       "    <tr>\n",
       "      <th>Number of Credit Problems</th>\n",
       "      <td>-0.002795</td>\n",
       "      <td>-0.003022</td>\n",
       "      <td>-0.017006</td>\n",
       "      <td>-0.055383</td>\n",
       "      <td>0.061588</td>\n",
       "      <td>0.104642</td>\n",
       "      <td>-0.013995</td>\n",
       "      <td>1.000000</td>\n",
       "      <td>-0.112516</td>\n",
       "      <td>-0.012072</td>\n",
       "      <td>0.752942</td>\n",
       "      <td>0.581290</td>\n",
       "    </tr>\n",
       "    <tr>\n",
       "      <th>Current Credit Balance</th>\n",
       "      <td>0.003880</td>\n",
       "      <td>-0.000104</td>\n",
       "      <td>0.312340</td>\n",
       "      <td>0.481348</td>\n",
       "      <td>0.208470</td>\n",
       "      <td>-0.028662</td>\n",
       "      <td>0.228136</td>\n",
       "      <td>-0.112516</td>\n",
       "      <td>1.000000</td>\n",
       "      <td>0.139204</td>\n",
       "      <td>-0.122603</td>\n",
       "      <td>-0.015645</td>\n",
       "    </tr>\n",
       "    <tr>\n",
       "      <th>Maximum Open Credit</th>\n",
       "      <td>-0.001271</td>\n",
       "      <td>-0.002827</td>\n",
       "      <td>0.053064</td>\n",
       "      <td>0.039268</td>\n",
       "      <td>0.031124</td>\n",
       "      <td>-0.008785</td>\n",
       "      <td>0.031341</td>\n",
       "      <td>-0.012072</td>\n",
       "      <td>0.139204</td>\n",
       "      <td>1.000000</td>\n",
       "      <td>-0.014574</td>\n",
       "      <td>-0.001029</td>\n",
       "    </tr>\n",
       "    <tr>\n",
       "      <th>Bankruptcies</th>\n",
       "      <td>-0.000608</td>\n",
       "      <td>-0.006935</td>\n",
       "      <td>-0.047672</td>\n",
       "      <td>-0.078979</td>\n",
       "      <td>0.066247</td>\n",
       "      <td>0.123951</td>\n",
       "      <td>-0.024575</td>\n",
       "      <td>0.752942</td>\n",
       "      <td>-0.122603</td>\n",
       "      <td>-0.014574</td>\n",
       "      <td>1.000000</td>\n",
       "      <td>0.046110</td>\n",
       "    </tr>\n",
       "    <tr>\n",
       "      <th>Tax Liens</th>\n",
       "      <td>-0.002048</td>\n",
       "      <td>0.005146</td>\n",
       "      <td>0.040167</td>\n",
       "      <td>0.020119</td>\n",
       "      <td>0.017245</td>\n",
       "      <td>0.012624</td>\n",
       "      <td>0.006545</td>\n",
       "      <td>0.581290</td>\n",
       "      <td>-0.015645</td>\n",
       "      <td>-0.001029</td>\n",
       "      <td>0.046110</td>\n",
       "      <td>1.000000</td>\n",
       "    </tr>\n",
       "  </tbody>\n",
       "</table>\n",
       "</div>"
      ],
      "text/plain": [
       "                              Current Loan Amount  Credit Score  \\\n",
       "Current Loan Amount                      1.000000     -0.096652   \n",
       "Credit Score                            -0.096652      1.000000   \n",
       "Annual Income                            0.013112     -0.017078   \n",
       "Monthly Debt                            -0.006643     -0.001674   \n",
       "Years of Credit History                  0.019282     -0.009720   \n",
       "Months since last delinquent             0.011248     -0.003739   \n",
       "Number of Open Accounts                  0.001478      0.006435   \n",
       "Number of Credit Problems               -0.002795     -0.003022   \n",
       "Current Credit Balance                   0.003880     -0.000104   \n",
       "Maximum Open Credit                     -0.001271     -0.002827   \n",
       "Bankruptcies                            -0.000608     -0.006935   \n",
       "Tax Liens                               -0.002048      0.005146   \n",
       "\n",
       "                              Annual Income  Monthly Debt  \\\n",
       "Current Loan Amount                0.013112     -0.006643   \n",
       "Credit Score                      -0.017078     -0.001674   \n",
       "Annual Income                      1.000000      0.485230   \n",
       "Monthly Debt                       0.485230      1.000000   \n",
       "Years of Credit History            0.161669      0.199289   \n",
       "Months since last delinquent      -0.077577     -0.056818   \n",
       "Number of Open Accounts            0.146175      0.411353   \n",
       "Number of Credit Problems         -0.017006     -0.055383   \n",
       "Current Credit Balance             0.312340      0.481348   \n",
       "Maximum Open Credit                0.053064      0.039268   \n",
       "Bankruptcies                      -0.047672     -0.078979   \n",
       "Tax Liens                          0.040167      0.020119   \n",
       "\n",
       "                              Years of Credit History  \\\n",
       "Current Loan Amount                          0.019282   \n",
       "Credit Score                                -0.009720   \n",
       "Annual Income                                0.161669   \n",
       "Monthly Debt                                 0.199289   \n",
       "Years of Credit History                      1.000000   \n",
       "Months since last delinquent                -0.044292   \n",
       "Number of Open Accounts                      0.132349   \n",
       "Number of Credit Problems                    0.061588   \n",
       "Current Credit Balance                       0.208470   \n",
       "Maximum Open Credit                          0.031124   \n",
       "Bankruptcies                                 0.066247   \n",
       "Tax Liens                                    0.017245   \n",
       "\n",
       "                              Months since last delinquent  \\\n",
       "Current Loan Amount                               0.011248   \n",
       "Credit Score                                     -0.003739   \n",
       "Annual Income                                    -0.077577   \n",
       "Monthly Debt                                     -0.056818   \n",
       "Years of Credit History                          -0.044292   \n",
       "Months since last delinquent                      1.000000   \n",
       "Number of Open Accounts                          -0.032569   \n",
       "Number of Credit Problems                         0.104642   \n",
       "Current Credit Balance                           -0.028662   \n",
       "Maximum Open Credit                              -0.008785   \n",
       "Bankruptcies                                      0.123951   \n",
       "Tax Liens                                         0.012624   \n",
       "\n",
       "                              Number of Open Accounts  \\\n",
       "Current Loan Amount                          0.001478   \n",
       "Credit Score                                 0.006435   \n",
       "Annual Income                                0.146175   \n",
       "Monthly Debt                                 0.411353   \n",
       "Years of Credit History                      0.132349   \n",
       "Months since last delinquent                -0.032569   \n",
       "Number of Open Accounts                      1.000000   \n",
       "Number of Credit Problems                   -0.013995   \n",
       "Current Credit Balance                       0.228136   \n",
       "Maximum Open Credit                          0.031341   \n",
       "Bankruptcies                                -0.024575   \n",
       "Tax Liens                                    0.006545   \n",
       "\n",
       "                              Number of Credit Problems  \\\n",
       "Current Loan Amount                           -0.002795   \n",
       "Credit Score                                  -0.003022   \n",
       "Annual Income                                 -0.017006   \n",
       "Monthly Debt                                  -0.055383   \n",
       "Years of Credit History                        0.061588   \n",
       "Months since last delinquent                   0.104642   \n",
       "Number of Open Accounts                       -0.013995   \n",
       "Number of Credit Problems                      1.000000   \n",
       "Current Credit Balance                        -0.112516   \n",
       "Maximum Open Credit                           -0.012072   \n",
       "Bankruptcies                                   0.752942   \n",
       "Tax Liens                                      0.581290   \n",
       "\n",
       "                              Current Credit Balance  Maximum Open Credit  \\\n",
       "Current Loan Amount                         0.003880            -0.001271   \n",
       "Credit Score                               -0.000104            -0.002827   \n",
       "Annual Income                               0.312340             0.053064   \n",
       "Monthly Debt                                0.481348             0.039268   \n",
       "Years of Credit History                     0.208470             0.031124   \n",
       "Months since last delinquent               -0.028662            -0.008785   \n",
       "Number of Open Accounts                     0.228136             0.031341   \n",
       "Number of Credit Problems                  -0.112516            -0.012072   \n",
       "Current Credit Balance                      1.000000             0.139204   \n",
       "Maximum Open Credit                         0.139204             1.000000   \n",
       "Bankruptcies                               -0.122603            -0.014574   \n",
       "Tax Liens                                  -0.015645            -0.001029   \n",
       "\n",
       "                              Bankruptcies  Tax Liens  \n",
       "Current Loan Amount              -0.000608  -0.002048  \n",
       "Credit Score                     -0.006935   0.005146  \n",
       "Annual Income                    -0.047672   0.040167  \n",
       "Monthly Debt                     -0.078979   0.020119  \n",
       "Years of Credit History           0.066247   0.017245  \n",
       "Months since last delinquent      0.123951   0.012624  \n",
       "Number of Open Accounts          -0.024575   0.006545  \n",
       "Number of Credit Problems         0.752942   0.581290  \n",
       "Current Credit Balance           -0.122603  -0.015645  \n",
       "Maximum Open Credit              -0.014574  -0.001029  \n",
       "Bankruptcies                      1.000000   0.046110  \n",
       "Tax Liens                         0.046110   1.000000  "
      ]
     },
     "execution_count": 158,
     "metadata": {},
     "output_type": "execute_result"
    }
   ],
   "source": [
    "corr_matrix=data.corr()\n",
    "corr_matrix"
   ]
  },
  {
   "cell_type": "code",
   "execution_count": 159,
   "id": "aa450d34",
   "metadata": {},
   "outputs": [
    {
     "data": {
      "text/plain": [
       "<AxesSubplot:>"
      ]
     },
     "execution_count": 159,
     "metadata": {},
     "output_type": "execute_result"
    },
    {
     "data": {
      "image/png": "[encoded data removed]",
      "text/plain": [
       "<Figure size 1008x576 with 2 Axes>"
      ]
     },
     "metadata": {},
     "output_type": "display_data"
    }
   ],
   "source": [
    "plt.figure(figsize=(14,8))\n",
    "sns.heatmap(data.corr(), annot=True, cmap=\"YlGnBu\")"
   ]
  },
  {
   "cell_type": "code",
   "execution_count": 160,
   "id": "e3a737f0",
   "metadata": {},
   "outputs": [],
   "source": [
    "#Correlation Matrix establishes a relationship between two variables and determines whether it is proportional\n",
    "#(more than 0.5), inversely proportional (smaller than -0.5), or has no relationship at all. (close to zero) "
   ]
  },
  {
   "cell_type": "markdown",
   "id": "42ad8b29",
   "metadata": {},
   "source": [
    "We found this:\n",
    "\n",
    "-Bankruptcy has a high correlation with number of credit problems as the bankrupt bank account is probably immeditely frozen after a bankruptcy.\n",
    "\n",
    "-Tax liens also have a high correlation with number of credit problems.\n",
    "\n",
    "-Monthly debt has a high correlation with both, current credit balance, annual income and number of open accounts."
   ]
  },
  {
   "cell_type": "code",
   "execution_count": 161,
   "id": "a72c59c7",
   "metadata": {},
   "outputs": [],
   "source": [
    "data.drop(labels=['Loan ID', 'Customer ID'], axis=1, inplace=True)\n"
   ]
  },
  {
   "cell_type": "markdown",
   "id": "f35ead6c",
   "metadata": {},
   "source": [
    "# PRE-PROCESSING\n"
   ]
  },
  {
   "cell_type": "markdown",
   "id": "576bdd37",
   "metadata": {},
   "source": [
    "## Missing Data"
   ]
  },
  {
   "cell_type": "code",
   "execution_count": 162,
   "id": "0dcadb06",
   "metadata": {},
   "outputs": [
    {
     "name": "stdout",
     "output_type": "stream",
     "text": [
      "True\n"
     ]
    }
   ],
   "source": [
    "print(data.isnull().values.any())"
   ]
  },
  {
   "cell_type": "code",
   "execution_count": 163,
   "id": "6040ae3f",
   "metadata": {},
   "outputs": [
    {
     "data": {
      "text/html": [
       "<div>\n",
       "<style scoped>\n",
       "    .dataframe tbody tr th:only-of-type {\n",
       "        vertical-align: middle;\n",
       "    }\n",
       "\n",
       "    .dataframe tbody tr th {\n",
       "        vertical-align: top;\n",
       "    }\n",
       "\n",
       "    .dataframe thead th {\n",
       "        text-align: right;\n",
       "    }\n",
       "</style>\n",
       "<table border=\"1\" class=\"dataframe\">\n",
       "  <thead>\n",
       "    <tr style=\"text-align: right;\">\n",
       "      <th></th>\n",
       "      <th>Total</th>\n",
       "      <th>Percent</th>\n",
       "    </tr>\n",
       "  </thead>\n",
       "  <tbody>\n",
       "    <tr>\n",
       "      <th>Months since last delinquent</th>\n",
       "      <td>53655</td>\n",
       "      <td>0.53655</td>\n",
       "    </tr>\n",
       "    <tr>\n",
       "      <th>Credit Score</th>\n",
       "      <td>19668</td>\n",
       "      <td>0.19668</td>\n",
       "    </tr>\n",
       "    <tr>\n",
       "      <th>Annual Income</th>\n",
       "      <td>19668</td>\n",
       "      <td>0.19668</td>\n",
       "    </tr>\n",
       "    <tr>\n",
       "      <th>Years in current job</th>\n",
       "      <td>4736</td>\n",
       "      <td>0.04736</td>\n",
       "    </tr>\n",
       "    <tr>\n",
       "      <th>Bankruptcies</th>\n",
       "      <td>718</td>\n",
       "      <td>0.00718</td>\n",
       "    </tr>\n",
       "    <tr>\n",
       "      <th>Tax Liens</th>\n",
       "      <td>524</td>\n",
       "      <td>0.00524</td>\n",
       "    </tr>\n",
       "    <tr>\n",
       "      <th>Maximum Open Credit</th>\n",
       "      <td>516</td>\n",
       "      <td>0.00516</td>\n",
       "    </tr>\n",
       "    <tr>\n",
       "      <th>Current Credit Balance</th>\n",
       "      <td>514</td>\n",
       "      <td>0.00514</td>\n",
       "    </tr>\n",
       "    <tr>\n",
       "      <th>Number of Credit Problems</th>\n",
       "      <td>514</td>\n",
       "      <td>0.00514</td>\n",
       "    </tr>\n",
       "    <tr>\n",
       "      <th>Number of Open Accounts</th>\n",
       "      <td>514</td>\n",
       "      <td>0.00514</td>\n",
       "    </tr>\n",
       "    <tr>\n",
       "      <th>Loan Status</th>\n",
       "      <td>514</td>\n",
       "      <td>0.00514</td>\n",
       "    </tr>\n",
       "    <tr>\n",
       "      <th>Years of Credit History</th>\n",
       "      <td>514</td>\n",
       "      <td>0.00514</td>\n",
       "    </tr>\n",
       "    <tr>\n",
       "      <th>Current Loan Amount</th>\n",
       "      <td>514</td>\n",
       "      <td>0.00514</td>\n",
       "    </tr>\n",
       "    <tr>\n",
       "      <th>Purpose</th>\n",
       "      <td>514</td>\n",
       "      <td>0.00514</td>\n",
       "    </tr>\n",
       "    <tr>\n",
       "      <th>Home Ownership</th>\n",
       "      <td>514</td>\n",
       "      <td>0.00514</td>\n",
       "    </tr>\n",
       "    <tr>\n",
       "      <th>Term</th>\n",
       "      <td>514</td>\n",
       "      <td>0.00514</td>\n",
       "    </tr>\n",
       "    <tr>\n",
       "      <th>Monthly Debt</th>\n",
       "      <td>514</td>\n",
       "      <td>0.00514</td>\n",
       "    </tr>\n",
       "  </tbody>\n",
       "</table>\n",
       "</div>"
      ],
      "text/plain": [
       "                              Total  Percent\n",
       "Months since last delinquent  53655  0.53655\n",
       "Credit Score                  19668  0.19668\n",
       "Annual Income                 19668  0.19668\n",
       "Years in current job           4736  0.04736\n",
       "Bankruptcies                    718  0.00718\n",
       "Tax Liens                       524  0.00524\n",
       "Maximum Open Credit             516  0.00516\n",
       "Current Credit Balance          514  0.00514\n",
       "Number of Credit Problems       514  0.00514\n",
       "Number of Open Accounts         514  0.00514\n",
       "Loan Status                     514  0.00514\n",
       "Years of Credit History         514  0.00514\n",
       "Current Loan Amount             514  0.00514\n",
       "Purpose                         514  0.00514\n",
       "Home Ownership                  514  0.00514\n",
       "Term                            514  0.00514\n",
       "Monthly Debt                    514  0.00514"
      ]
     },
     "execution_count": 163,
     "metadata": {},
     "output_type": "execute_result"
    }
   ],
   "source": [
    "# Check the percentage of Nan in dataset\n",
    "total = data.isnull().sum().sort_values(ascending=False)\n",
    "percent = (data.isnull().sum()/data['Loan Status'].count()).sort_values(ascending=False)\n",
    "missing_data = pd.concat([total, percent], axis=1, keys=['Total', 'Percent'])\n",
    "missing_data.head(20)\n"
   ]
  },
  {
   "cell_type": "markdown",
   "id": "87904dc6",
   "metadata": {},
   "source": [
    "#### We have:\n",
    "-> 51% missing data in total Months since last deliquent.\n",
    "\n",
    "-> 19% in both credit score and annual income."
   ]
  },
  {
   "cell_type": "code",
   "execution_count": 164,
   "id": "17b05cd8",
   "metadata": {},
   "outputs": [],
   "source": [
    "data.drop(columns = 'Months since last delinquent', axis=1, inplace=True) \n",
    "#Drop the columns with > 50% missin"
   ]
  },
  {
   "cell_type": "code",
   "execution_count": 165,
   "id": "5f1da1c3",
   "metadata": {},
   "outputs": [
    {
     "name": "stdout",
     "output_type": "stream",
     "text": [
      "      Loan Status  Current Loan Amount        Term  Credit Score  \\\n",
      "99995  Fully Paid             147070.0  Short Term         725.0   \n",
      "99996  Fully Paid           99999999.0  Short Term         732.0   \n",
      "99997  Fully Paid             103136.0  Short Term         742.0   \n",
      "99998  Fully Paid             530332.0  Short Term         746.0   \n",
      "99999  Fully Paid           99999999.0  Short Term         743.0   \n",
      "\n",
      "       Annual Income Years in current job Home Ownership             Purpose  \\\n",
      "99995       475437.0              7 years       Own Home               other   \n",
      "99996      1289416.0               1 year           Rent  Debt Consolidation   \n",
      "99997      1150545.0              6 years           Rent  Debt Consolidation   \n",
      "99998      1717524.0              9 years           Rent  Debt Consolidation   \n",
      "99999       935180.0                  NaN       Own Home  Debt Consolidation   \n",
      "\n",
      "       Monthly Debt  Years of Credit History  Number of Open Accounts  \\\n",
      "99995       2202.86                     22.3                      5.0   \n",
      "99996      13109.05                      9.4                     22.0   \n",
      "99997       7315.57                     18.8                     12.0   \n",
      "99998       9890.07                     15.0                      8.0   \n",
      "99999       9118.10                     13.0                      4.0   \n",
      "\n",
      "       Number of Credit Problems  Current Credit Balance  Maximum Open Credit  \\\n",
      "99995                        0.0                 47766.0             658548.0   \n",
      "99996                        0.0                153045.0             509234.0   \n",
      "99997                        1.0                109554.0             537548.0   \n",
      "99998                        0.0                404225.0             738254.0   \n",
      "99999                        1.0                 45600.0              91014.0   \n",
      "\n",
      "       Bankruptcies  Tax Liens  \n",
      "99995           0.0        0.0  \n",
      "99996           0.0        0.0  \n",
      "99997           1.0        0.0  \n",
      "99998           0.0        0.0  \n",
      "99999           1.0        0.0  \n"
     ]
    }
   ],
   "source": [
    "#But if there's some rows with alot of missing values, we should remove all rows with more\n",
    "#than 2 missing values as filling more than 2 rows could corrupt the data, we use threshold = 8.\n",
    "print(data.dropna(axis=0,thresh=8).tail())"
   ]
  },
  {
   "cell_type": "code",
   "execution_count": 166,
   "id": "f5618c86",
   "metadata": {},
   "outputs": [
    {
     "data": {
      "text/html": [
       "<div>\n",
       "<style scoped>\n",
       "    .dataframe tbody tr th:only-of-type {\n",
       "        vertical-align: middle;\n",
       "    }\n",
       "\n",
       "    .dataframe tbody tr th {\n",
       "        vertical-align: top;\n",
       "    }\n",
       "\n",
       "    .dataframe thead th {\n",
       "        text-align: right;\n",
       "    }\n",
       "</style>\n",
       "<table border=\"1\" class=\"dataframe\">\n",
       "  <thead>\n",
       "    <tr style=\"text-align: right;\">\n",
       "      <th></th>\n",
       "      <th>Loan Status</th>\n",
       "      <th>Current Loan Amount</th>\n",
       "      <th>Term</th>\n",
       "      <th>Credit Score</th>\n",
       "      <th>Annual Income</th>\n",
       "      <th>Years in current job</th>\n",
       "      <th>Home Ownership</th>\n",
       "      <th>Purpose</th>\n",
       "      <th>Monthly Debt</th>\n",
       "      <th>Years of Credit History</th>\n",
       "      <th>Number of Open Accounts</th>\n",
       "      <th>Number of Credit Problems</th>\n",
       "      <th>Current Credit Balance</th>\n",
       "      <th>Maximum Open Credit</th>\n",
       "      <th>Bankruptcies</th>\n",
       "      <th>Tax Liens</th>\n",
       "    </tr>\n",
       "  </thead>\n",
       "  <tbody>\n",
       "    <tr>\n",
       "      <th>100509</th>\n",
       "      <td>NaN</td>\n",
       "      <td>NaN</td>\n",
       "      <td>NaN</td>\n",
       "      <td>NaN</td>\n",
       "      <td>NaN</td>\n",
       "      <td>NaN</td>\n",
       "      <td>NaN</td>\n",
       "      <td>NaN</td>\n",
       "      <td>NaN</td>\n",
       "      <td>NaN</td>\n",
       "      <td>NaN</td>\n",
       "      <td>NaN</td>\n",
       "      <td>NaN</td>\n",
       "      <td>NaN</td>\n",
       "      <td>NaN</td>\n",
       "      <td>NaN</td>\n",
       "    </tr>\n",
       "    <tr>\n",
       "      <th>100510</th>\n",
       "      <td>NaN</td>\n",
       "      <td>NaN</td>\n",
       "      <td>NaN</td>\n",
       "      <td>NaN</td>\n",
       "      <td>NaN</td>\n",
       "      <td>NaN</td>\n",
       "      <td>NaN</td>\n",
       "      <td>NaN</td>\n",
       "      <td>NaN</td>\n",
       "      <td>NaN</td>\n",
       "      <td>NaN</td>\n",
       "      <td>NaN</td>\n",
       "      <td>NaN</td>\n",
       "      <td>NaN</td>\n",
       "      <td>NaN</td>\n",
       "      <td>NaN</td>\n",
       "    </tr>\n",
       "    <tr>\n",
       "      <th>100511</th>\n",
       "      <td>NaN</td>\n",
       "      <td>NaN</td>\n",
       "      <td>NaN</td>\n",
       "      <td>NaN</td>\n",
       "      <td>NaN</td>\n",
       "      <td>NaN</td>\n",
       "      <td>NaN</td>\n",
       "      <td>NaN</td>\n",
       "      <td>NaN</td>\n",
       "      <td>NaN</td>\n",
       "      <td>NaN</td>\n",
       "      <td>NaN</td>\n",
       "      <td>NaN</td>\n",
       "      <td>NaN</td>\n",
       "      <td>NaN</td>\n",
       "      <td>NaN</td>\n",
       "    </tr>\n",
       "    <tr>\n",
       "      <th>100512</th>\n",
       "      <td>NaN</td>\n",
       "      <td>NaN</td>\n",
       "      <td>NaN</td>\n",
       "      <td>NaN</td>\n",
       "      <td>NaN</td>\n",
       "      <td>NaN</td>\n",
       "      <td>NaN</td>\n",
       "      <td>NaN</td>\n",
       "      <td>NaN</td>\n",
       "      <td>NaN</td>\n",
       "      <td>NaN</td>\n",
       "      <td>NaN</td>\n",
       "      <td>NaN</td>\n",
       "      <td>NaN</td>\n",
       "      <td>NaN</td>\n",
       "      <td>NaN</td>\n",
       "    </tr>\n",
       "    <tr>\n",
       "      <th>100513</th>\n",
       "      <td>NaN</td>\n",
       "      <td>NaN</td>\n",
       "      <td>NaN</td>\n",
       "      <td>NaN</td>\n",
       "      <td>NaN</td>\n",
       "      <td>NaN</td>\n",
       "      <td>NaN</td>\n",
       "      <td>NaN</td>\n",
       "      <td>NaN</td>\n",
       "      <td>NaN</td>\n",
       "      <td>NaN</td>\n",
       "      <td>NaN</td>\n",
       "      <td>NaN</td>\n",
       "      <td>NaN</td>\n",
       "      <td>NaN</td>\n",
       "      <td>NaN</td>\n",
       "    </tr>\n",
       "  </tbody>\n",
       "</table>\n",
       "</div>"
      ],
      "text/plain": [
       "       Loan Status  Current Loan Amount Term  Credit Score  Annual Income  \\\n",
       "100509         NaN                  NaN  NaN           NaN            NaN   \n",
       "100510         NaN                  NaN  NaN           NaN            NaN   \n",
       "100511         NaN                  NaN  NaN           NaN            NaN   \n",
       "100512         NaN                  NaN  NaN           NaN            NaN   \n",
       "100513         NaN                  NaN  NaN           NaN            NaN   \n",
       "\n",
       "       Years in current job Home Ownership Purpose  Monthly Debt  \\\n",
       "100509                  NaN            NaN     NaN           NaN   \n",
       "100510                  NaN            NaN     NaN           NaN   \n",
       "100511                  NaN            NaN     NaN           NaN   \n",
       "100512                  NaN            NaN     NaN           NaN   \n",
       "100513                  NaN            NaN     NaN           NaN   \n",
       "\n",
       "        Years of Credit History  Number of Open Accounts  \\\n",
       "100509                      NaN                      NaN   \n",
       "100510                      NaN                      NaN   \n",
       "100511                      NaN                      NaN   \n",
       "100512                      NaN                      NaN   \n",
       "100513                      NaN                      NaN   \n",
       "\n",
       "        Number of Credit Problems  Current Credit Balance  \\\n",
       "100509                        NaN                     NaN   \n",
       "100510                        NaN                     NaN   \n",
       "100511                        NaN                     NaN   \n",
       "100512                        NaN                     NaN   \n",
       "100513                        NaN                     NaN   \n",
       "\n",
       "        Maximum Open Credit  Bankruptcies  Tax Liens  \n",
       "100509                  NaN           NaN        NaN  \n",
       "100510                  NaN           NaN        NaN  \n",
       "100511                  NaN           NaN        NaN  \n",
       "100512                  NaN           NaN        NaN  \n",
       "100513                  NaN           NaN        NaN  "
      ]
     },
     "execution_count": 166,
     "metadata": {},
     "output_type": "execute_result"
    }
   ],
   "source": [
    "data.tail()"
   ]
  },
  {
   "cell_type": "code",
   "execution_count": 167,
   "id": "983c1448",
   "metadata": {},
   "outputs": [],
   "source": [
    "data.drop(data.tail(514).index, inplace=True) "
   ]
  },
  {
   "cell_type": "code",
   "execution_count": 168,
   "id": "5af77e44",
   "metadata": {},
   "outputs": [
    {
     "data": {
      "text/html": [
       "<div>\n",
       "<style scoped>\n",
       "    .dataframe tbody tr th:only-of-type {\n",
       "        vertical-align: middle;\n",
       "    }\n",
       "\n",
       "    .dataframe tbody tr th {\n",
       "        vertical-align: top;\n",
       "    }\n",
       "\n",
       "    .dataframe thead th {\n",
       "        text-align: right;\n",
       "    }\n",
       "</style>\n",
       "<table border=\"1\" class=\"dataframe\">\n",
       "  <thead>\n",
       "    <tr style=\"text-align: right;\">\n",
       "      <th></th>\n",
       "      <th>Loan Status</th>\n",
       "      <th>Current Loan Amount</th>\n",
       "      <th>Term</th>\n",
       "      <th>Credit Score</th>\n",
       "      <th>Annual Income</th>\n",
       "      <th>Years in current job</th>\n",
       "      <th>Home Ownership</th>\n",
       "      <th>Purpose</th>\n",
       "      <th>Monthly Debt</th>\n",
       "      <th>Years of Credit History</th>\n",
       "      <th>Number of Open Accounts</th>\n",
       "      <th>Number of Credit Problems</th>\n",
       "      <th>Current Credit Balance</th>\n",
       "      <th>Maximum Open Credit</th>\n",
       "      <th>Bankruptcies</th>\n",
       "      <th>Tax Liens</th>\n",
       "    </tr>\n",
       "  </thead>\n",
       "  <tbody>\n",
       "    <tr>\n",
       "      <th>99995</th>\n",
       "      <td>Fully Paid</td>\n",
       "      <td>147070.0</td>\n",
       "      <td>Short Term</td>\n",
       "      <td>725.0</td>\n",
       "      <td>475437.0</td>\n",
       "      <td>7 years</td>\n",
       "      <td>Own Home</td>\n",
       "      <td>other</td>\n",
       "      <td>2202.86</td>\n",
       "      <td>22.3</td>\n",
       "      <td>5.0</td>\n",
       "      <td>0.0</td>\n",
       "      <td>47766.0</td>\n",
       "      <td>658548.0</td>\n",
       "      <td>0.0</td>\n",
       "      <td>0.0</td>\n",
       "    </tr>\n",
       "    <tr>\n",
       "      <th>99996</th>\n",
       "      <td>Fully Paid</td>\n",
       "      <td>99999999.0</td>\n",
       "      <td>Short Term</td>\n",
       "      <td>732.0</td>\n",
       "      <td>1289416.0</td>\n",
       "      <td>1 year</td>\n",
       "      <td>Rent</td>\n",
       "      <td>Debt Consolidation</td>\n",
       "      <td>13109.05</td>\n",
       "      <td>9.4</td>\n",
       "      <td>22.0</td>\n",
       "      <td>0.0</td>\n",
       "      <td>153045.0</td>\n",
       "      <td>509234.0</td>\n",
       "      <td>0.0</td>\n",
       "      <td>0.0</td>\n",
       "    </tr>\n",
       "    <tr>\n",
       "      <th>99997</th>\n",
       "      <td>Fully Paid</td>\n",
       "      <td>103136.0</td>\n",
       "      <td>Short Term</td>\n",
       "      <td>742.0</td>\n",
       "      <td>1150545.0</td>\n",
       "      <td>6 years</td>\n",
       "      <td>Rent</td>\n",
       "      <td>Debt Consolidation</td>\n",
       "      <td>7315.57</td>\n",
       "      <td>18.8</td>\n",
       "      <td>12.0</td>\n",
       "      <td>1.0</td>\n",
       "      <td>109554.0</td>\n",
       "      <td>537548.0</td>\n",
       "      <td>1.0</td>\n",
       "      <td>0.0</td>\n",
       "    </tr>\n",
       "    <tr>\n",
       "      <th>99998</th>\n",
       "      <td>Fully Paid</td>\n",
       "      <td>530332.0</td>\n",
       "      <td>Short Term</td>\n",
       "      <td>746.0</td>\n",
       "      <td>1717524.0</td>\n",
       "      <td>9 years</td>\n",
       "      <td>Rent</td>\n",
       "      <td>Debt Consolidation</td>\n",
       "      <td>9890.07</td>\n",
       "      <td>15.0</td>\n",
       "      <td>8.0</td>\n",
       "      <td>0.0</td>\n",
       "      <td>404225.0</td>\n",
       "      <td>738254.0</td>\n",
       "      <td>0.0</td>\n",
       "      <td>0.0</td>\n",
       "    </tr>\n",
       "    <tr>\n",
       "      <th>99999</th>\n",
       "      <td>Fully Paid</td>\n",
       "      <td>99999999.0</td>\n",
       "      <td>Short Term</td>\n",
       "      <td>743.0</td>\n",
       "      <td>935180.0</td>\n",
       "      <td>NaN</td>\n",
       "      <td>Own Home</td>\n",
       "      <td>Debt Consolidation</td>\n",
       "      <td>9118.10</td>\n",
       "      <td>13.0</td>\n",
       "      <td>4.0</td>\n",
       "      <td>1.0</td>\n",
       "      <td>45600.0</td>\n",
       "      <td>91014.0</td>\n",
       "      <td>1.0</td>\n",
       "      <td>0.0</td>\n",
       "    </tr>\n",
       "  </tbody>\n",
       "</table>\n",
       "</div>"
      ],
      "text/plain": [
       "      Loan Status  Current Loan Amount        Term  Credit Score  \\\n",
       "99995  Fully Paid             147070.0  Short Term         725.0   \n",
       "99996  Fully Paid           99999999.0  Short Term         732.0   \n",
       "99997  Fully Paid             103136.0  Short Term         742.0   \n",
       "99998  Fully Paid             530332.0  Short Term         746.0   \n",
       "99999  Fully Paid           99999999.0  Short Term         743.0   \n",
       "\n",
       "       Annual Income Years in current job Home Ownership             Purpose  \\\n",
       "99995       475437.0              7 years       Own Home               other   \n",
       "99996      1289416.0               1 year           Rent  Debt Consolidation   \n",
       "99997      1150545.0              6 years           Rent  Debt Consolidation   \n",
       "99998      1717524.0              9 years           Rent  Debt Consolidation   \n",
       "99999       935180.0                  NaN       Own Home  Debt Consolidation   \n",
       "\n",
       "       Monthly Debt  Years of Credit History  Number of Open Accounts  \\\n",
       "99995       2202.86                     22.3                      5.0   \n",
       "99996      13109.05                      9.4                     22.0   \n",
       "99997       7315.57                     18.8                     12.0   \n",
       "99998       9890.07                     15.0                      8.0   \n",
       "99999       9118.10                     13.0                      4.0   \n",
       "\n",
       "       Number of Credit Problems  Current Credit Balance  Maximum Open Credit  \\\n",
       "99995                        0.0                 47766.0             658548.0   \n",
       "99996                        0.0                153045.0             509234.0   \n",
       "99997                        1.0                109554.0             537548.0   \n",
       "99998                        0.0                404225.0             738254.0   \n",
       "99999                        1.0                 45600.0              91014.0   \n",
       "\n",
       "       Bankruptcies  Tax Liens  \n",
       "99995           0.0        0.0  \n",
       "99996           0.0        0.0  \n",
       "99997           1.0        0.0  \n",
       "99998           0.0        0.0  \n",
       "99999           1.0        0.0  "
      ]
     },
     "execution_count": 168,
     "metadata": {},
     "output_type": "execute_result"
    }
   ],
   "source": [
    "data.tail()"
   ]
  },
  {
   "cell_type": "code",
   "execution_count": 169,
   "id": "9268350c",
   "metadata": {},
   "outputs": [
    {
     "data": {
      "text/html": [
       "<div>\n",
       "<style scoped>\n",
       "    .dataframe tbody tr th:only-of-type {\n",
       "        vertical-align: middle;\n",
       "    }\n",
       "\n",
       "    .dataframe tbody tr th {\n",
       "        vertical-align: top;\n",
       "    }\n",
       "\n",
       "    .dataframe thead th {\n",
       "        text-align: right;\n",
       "    }\n",
       "</style>\n",
       "<table border=\"1\" class=\"dataframe\">\n",
       "  <thead>\n",
       "    <tr style=\"text-align: right;\">\n",
       "      <th></th>\n",
       "      <th>Total</th>\n",
       "      <th>Percent</th>\n",
       "    </tr>\n",
       "  </thead>\n",
       "  <tbody>\n",
       "    <tr>\n",
       "      <th>Credit Score</th>\n",
       "      <td>19154</td>\n",
       "      <td>0.19154</td>\n",
       "    </tr>\n",
       "    <tr>\n",
       "      <th>Annual Income</th>\n",
       "      <td>19154</td>\n",
       "      <td>0.19154</td>\n",
       "    </tr>\n",
       "    <tr>\n",
       "      <th>Years in current job</th>\n",
       "      <td>4222</td>\n",
       "      <td>0.04222</td>\n",
       "    </tr>\n",
       "    <tr>\n",
       "      <th>Bankruptcies</th>\n",
       "      <td>204</td>\n",
       "      <td>0.00204</td>\n",
       "    </tr>\n",
       "    <tr>\n",
       "      <th>Tax Liens</th>\n",
       "      <td>10</td>\n",
       "      <td>0.00010</td>\n",
       "    </tr>\n",
       "    <tr>\n",
       "      <th>Maximum Open Credit</th>\n",
       "      <td>2</td>\n",
       "      <td>0.00002</td>\n",
       "    </tr>\n",
       "    <tr>\n",
       "      <th>Loan Status</th>\n",
       "      <td>0</td>\n",
       "      <td>0.00000</td>\n",
       "    </tr>\n",
       "    <tr>\n",
       "      <th>Current Loan Amount</th>\n",
       "      <td>0</td>\n",
       "      <td>0.00000</td>\n",
       "    </tr>\n",
       "    <tr>\n",
       "      <th>Term</th>\n",
       "      <td>0</td>\n",
       "      <td>0.00000</td>\n",
       "    </tr>\n",
       "    <tr>\n",
       "      <th>Home Ownership</th>\n",
       "      <td>0</td>\n",
       "      <td>0.00000</td>\n",
       "    </tr>\n",
       "    <tr>\n",
       "      <th>Purpose</th>\n",
       "      <td>0</td>\n",
       "      <td>0.00000</td>\n",
       "    </tr>\n",
       "    <tr>\n",
       "      <th>Monthly Debt</th>\n",
       "      <td>0</td>\n",
       "      <td>0.00000</td>\n",
       "    </tr>\n",
       "    <tr>\n",
       "      <th>Years of Credit History</th>\n",
       "      <td>0</td>\n",
       "      <td>0.00000</td>\n",
       "    </tr>\n",
       "    <tr>\n",
       "      <th>Number of Open Accounts</th>\n",
       "      <td>0</td>\n",
       "      <td>0.00000</td>\n",
       "    </tr>\n",
       "    <tr>\n",
       "      <th>Number of Credit Problems</th>\n",
       "      <td>0</td>\n",
       "      <td>0.00000</td>\n",
       "    </tr>\n",
       "    <tr>\n",
       "      <th>Current Credit Balance</th>\n",
       "      <td>0</td>\n",
       "      <td>0.00000</td>\n",
       "    </tr>\n",
       "  </tbody>\n",
       "</table>\n",
       "</div>"
      ],
      "text/plain": [
       "                           Total  Percent\n",
       "Credit Score               19154  0.19154\n",
       "Annual Income              19154  0.19154\n",
       "Years in current job        4222  0.04222\n",
       "Bankruptcies                 204  0.00204\n",
       "Tax Liens                     10  0.00010\n",
       "Maximum Open Credit            2  0.00002\n",
       "Loan Status                    0  0.00000\n",
       "Current Loan Amount            0  0.00000\n",
       "Term                           0  0.00000\n",
       "Home Ownership                 0  0.00000\n",
       "Purpose                        0  0.00000\n",
       "Monthly Debt                   0  0.00000\n",
       "Years of Credit History        0  0.00000\n",
       "Number of Open Accounts        0  0.00000\n",
       "Number of Credit Problems      0  0.00000\n",
       "Current Credit Balance         0  0.00000"
      ]
     },
     "execution_count": 169,
     "metadata": {},
     "output_type": "execute_result"
    }
   ],
   "source": [
    "total = data.isnull().sum().sort_values(ascending=False)\n",
    "percent = (data.isnull().sum()/data['Loan Status'].count()).sort_values(ascending=False)\n",
    "missing_data = pd.concat([total, percent], axis=1, keys=['Total', 'Percent'])\n",
    "missing_data.head(20)"
   ]
  },
  {
   "cell_type": "markdown",
   "id": "e7a0ce3e",
   "metadata": {},
   "source": [
    "# Encoding Catagorical data"
   ]
  },
  {
   "cell_type": "code",
   "execution_count": 170,
   "id": "f772ef3e",
   "metadata": {},
   "outputs": [],
   "source": [
    "le = LabelEncoder()\n",
    "data['Term']=le.fit_transform(data['Term'])\n",
    "data['Years in current job']=le.fit_transform(data['Years in current job'])\n",
    "data['Home Ownership']=le.fit_transform(data['Home Ownership'])\n",
    "data['Purpose']=le.fit_transform(data['Purpose'])\n",
    "data['Loan Status']=le.fit_transform(data['Loan Status'])"
   ]
  },
  {
   "cell_type": "code",
   "execution_count": 172,
   "id": "7fe56c82",
   "metadata": {},
   "outputs": [
    {
     "data": {
      "text/html": [
       "<div>\n",
       "<style scoped>\n",
       "    .dataframe tbody tr th:only-of-type {\n",
       "        vertical-align: middle;\n",
       "    }\n",
       "\n",
       "    .dataframe tbody tr th {\n",
       "        vertical-align: top;\n",
       "    }\n",
       "\n",
       "    .dataframe thead th {\n",
       "        text-align: right;\n",
       "    }\n",
       "</style>\n",
       "<table border=\"1\" class=\"dataframe\">\n",
       "  <thead>\n",
       "    <tr style=\"text-align: right;\">\n",
       "      <th></th>\n",
       "      <th>Loan Status</th>\n",
       "      <th>Current Loan Amount</th>\n",
       "      <th>Term</th>\n",
       "      <th>Credit Score</th>\n",
       "      <th>Annual Income</th>\n",
       "      <th>Years in current job</th>\n",
       "      <th>Home Ownership</th>\n",
       "      <th>Purpose</th>\n",
       "      <th>Monthly Debt</th>\n",
       "      <th>Years of Credit History</th>\n",
       "      <th>Number of Open Accounts</th>\n",
       "      <th>Number of Credit Problems</th>\n",
       "      <th>Current Credit Balance</th>\n",
       "      <th>Maximum Open Credit</th>\n",
       "      <th>Bankruptcies</th>\n",
       "      <th>Tax Liens</th>\n",
       "    </tr>\n",
       "  </thead>\n",
       "  <tbody>\n",
       "    <tr>\n",
       "      <th>0</th>\n",
       "      <td>1</td>\n",
       "      <td>445412.0</td>\n",
       "      <td>1</td>\n",
       "      <td>709.0</td>\n",
       "      <td>1167493.0</td>\n",
       "      <td>8</td>\n",
       "      <td>1</td>\n",
       "      <td>5</td>\n",
       "      <td>5214.74</td>\n",
       "      <td>17.2</td>\n",
       "      <td>6.0</td>\n",
       "      <td>1.0</td>\n",
       "      <td>228190.0</td>\n",
       "      <td>416746.0</td>\n",
       "      <td>1.0</td>\n",
       "      <td>0.0</td>\n",
       "    </tr>\n",
       "    <tr>\n",
       "      <th>1</th>\n",
       "      <td>1</td>\n",
       "      <td>262328.0</td>\n",
       "      <td>1</td>\n",
       "      <td>NaN</td>\n",
       "      <td>NaN</td>\n",
       "      <td>1</td>\n",
       "      <td>1</td>\n",
       "      <td>3</td>\n",
       "      <td>33295.98</td>\n",
       "      <td>21.1</td>\n",
       "      <td>35.0</td>\n",
       "      <td>0.0</td>\n",
       "      <td>229976.0</td>\n",
       "      <td>850784.0</td>\n",
       "      <td>0.0</td>\n",
       "      <td>0.0</td>\n",
       "    </tr>\n",
       "    <tr>\n",
       "      <th>2</th>\n",
       "      <td>1</td>\n",
       "      <td>99999999.0</td>\n",
       "      <td>1</td>\n",
       "      <td>741.0</td>\n",
       "      <td>2231892.0</td>\n",
       "      <td>8</td>\n",
       "      <td>2</td>\n",
       "      <td>3</td>\n",
       "      <td>29200.53</td>\n",
       "      <td>14.9</td>\n",
       "      <td>18.0</td>\n",
       "      <td>1.0</td>\n",
       "      <td>297996.0</td>\n",
       "      <td>750090.0</td>\n",
       "      <td>0.0</td>\n",
       "      <td>0.0</td>\n",
       "    </tr>\n",
       "    <tr>\n",
       "      <th>3</th>\n",
       "      <td>1</td>\n",
       "      <td>347666.0</td>\n",
       "      <td>0</td>\n",
       "      <td>721.0</td>\n",
       "      <td>806949.0</td>\n",
       "      <td>3</td>\n",
       "      <td>2</td>\n",
       "      <td>3</td>\n",
       "      <td>8741.90</td>\n",
       "      <td>12.0</td>\n",
       "      <td>9.0</td>\n",
       "      <td>0.0</td>\n",
       "      <td>256329.0</td>\n",
       "      <td>386958.0</td>\n",
       "      <td>0.0</td>\n",
       "      <td>0.0</td>\n",
       "    </tr>\n",
       "    <tr>\n",
       "      <th>4</th>\n",
       "      <td>1</td>\n",
       "      <td>176220.0</td>\n",
       "      <td>1</td>\n",
       "      <td>NaN</td>\n",
       "      <td>NaN</td>\n",
       "      <td>5</td>\n",
       "      <td>3</td>\n",
       "      <td>3</td>\n",
       "      <td>20639.70</td>\n",
       "      <td>6.1</td>\n",
       "      <td>15.0</td>\n",
       "      <td>0.0</td>\n",
       "      <td>253460.0</td>\n",
       "      <td>427174.0</td>\n",
       "      <td>0.0</td>\n",
       "      <td>0.0</td>\n",
       "    </tr>\n",
       "    <tr>\n",
       "      <th>5</th>\n",
       "      <td>0</td>\n",
       "      <td>206602.0</td>\n",
       "      <td>1</td>\n",
       "      <td>7290.0</td>\n",
       "      <td>896857.0</td>\n",
       "      <td>1</td>\n",
       "      <td>1</td>\n",
       "      <td>3</td>\n",
       "      <td>16367.74</td>\n",
       "      <td>17.3</td>\n",
       "      <td>6.0</td>\n",
       "      <td>0.0</td>\n",
       "      <td>215308.0</td>\n",
       "      <td>272448.0</td>\n",
       "      <td>0.0</td>\n",
       "      <td>0.0</td>\n",
       "    </tr>\n",
       "    <tr>\n",
       "      <th>6</th>\n",
       "      <td>1</td>\n",
       "      <td>217646.0</td>\n",
       "      <td>1</td>\n",
       "      <td>730.0</td>\n",
       "      <td>1184194.0</td>\n",
       "      <td>10</td>\n",
       "      <td>1</td>\n",
       "      <td>3</td>\n",
       "      <td>10855.08</td>\n",
       "      <td>19.6</td>\n",
       "      <td>13.0</td>\n",
       "      <td>1.0</td>\n",
       "      <td>122170.0</td>\n",
       "      <td>272052.0</td>\n",
       "      <td>1.0</td>\n",
       "      <td>0.0</td>\n",
       "    </tr>\n",
       "    <tr>\n",
       "      <th>7</th>\n",
       "      <td>0</td>\n",
       "      <td>648714.0</td>\n",
       "      <td>0</td>\n",
       "      <td>NaN</td>\n",
       "      <td>NaN</td>\n",
       "      <td>10</td>\n",
       "      <td>1</td>\n",
       "      <td>1</td>\n",
       "      <td>14806.13</td>\n",
       "      <td>8.2</td>\n",
       "      <td>15.0</td>\n",
       "      <td>0.0</td>\n",
       "      <td>193306.0</td>\n",
       "      <td>864204.0</td>\n",
       "      <td>0.0</td>\n",
       "      <td>0.0</td>\n",
       "    </tr>\n",
       "    <tr>\n",
       "      <th>8</th>\n",
       "      <td>1</td>\n",
       "      <td>548746.0</td>\n",
       "      <td>1</td>\n",
       "      <td>678.0</td>\n",
       "      <td>2559110.0</td>\n",
       "      <td>2</td>\n",
       "      <td>3</td>\n",
       "      <td>3</td>\n",
       "      <td>18660.28</td>\n",
       "      <td>22.6</td>\n",
       "      <td>4.0</td>\n",
       "      <td>0.0</td>\n",
       "      <td>437171.0</td>\n",
       "      <td>555038.0</td>\n",
       "      <td>0.0</td>\n",
       "      <td>0.0</td>\n",
       "    </tr>\n",
       "    <tr>\n",
       "      <th>9</th>\n",
       "      <td>1</td>\n",
       "      <td>215952.0</td>\n",
       "      <td>1</td>\n",
       "      <td>739.0</td>\n",
       "      <td>1454735.0</td>\n",
       "      <td>10</td>\n",
       "      <td>3</td>\n",
       "      <td>3</td>\n",
       "      <td>39277.75</td>\n",
       "      <td>13.9</td>\n",
       "      <td>20.0</td>\n",
       "      <td>0.0</td>\n",
       "      <td>669560.0</td>\n",
       "      <td>1021460.0</td>\n",
       "      <td>0.0</td>\n",
       "      <td>0.0</td>\n",
       "    </tr>\n",
       "    <tr>\n",
       "      <th>10</th>\n",
       "      <td>1</td>\n",
       "      <td>99999999.0</td>\n",
       "      <td>1</td>\n",
       "      <td>728.0</td>\n",
       "      <td>714628.0</td>\n",
       "      <td>3</td>\n",
       "      <td>3</td>\n",
       "      <td>3</td>\n",
       "      <td>11851.06</td>\n",
       "      <td>16.0</td>\n",
       "      <td>16.0</td>\n",
       "      <td>0.0</td>\n",
       "      <td>203965.0</td>\n",
       "      <td>289784.0</td>\n",
       "      <td>0.0</td>\n",
       "      <td>0.0</td>\n",
       "    </tr>\n",
       "    <tr>\n",
       "      <th>11</th>\n",
       "      <td>1</td>\n",
       "      <td>541970.0</td>\n",
       "      <td>1</td>\n",
       "      <td>NaN</td>\n",
       "      <td>NaN</td>\n",
       "      <td>1</td>\n",
       "      <td>1</td>\n",
       "      <td>5</td>\n",
       "      <td>23568.55</td>\n",
       "      <td>23.2</td>\n",
       "      <td>23.0</td>\n",
       "      <td>0.0</td>\n",
       "      <td>60705.0</td>\n",
       "      <td>1634468.0</td>\n",
       "      <td>0.0</td>\n",
       "      <td>0.0</td>\n",
       "    </tr>\n",
       "    <tr>\n",
       "      <th>12</th>\n",
       "      <td>1</td>\n",
       "      <td>99999999.0</td>\n",
       "      <td>1</td>\n",
       "      <td>740.0</td>\n",
       "      <td>776188.0</td>\n",
       "      <td>10</td>\n",
       "      <td>2</td>\n",
       "      <td>3</td>\n",
       "      <td>11578.22</td>\n",
       "      <td>8.5</td>\n",
       "      <td>6.0</td>\n",
       "      <td>0.0</td>\n",
       "      <td>134083.0</td>\n",
       "      <td>220220.0</td>\n",
       "      <td>0.0</td>\n",
       "      <td>0.0</td>\n",
       "    </tr>\n",
       "    <tr>\n",
       "      <th>13</th>\n",
       "      <td>1</td>\n",
       "      <td>99999999.0</td>\n",
       "      <td>1</td>\n",
       "      <td>743.0</td>\n",
       "      <td>1560907.0</td>\n",
       "      <td>4</td>\n",
       "      <td>3</td>\n",
       "      <td>3</td>\n",
       "      <td>17560.37</td>\n",
       "      <td>13.3</td>\n",
       "      <td>10.0</td>\n",
       "      <td>1.0</td>\n",
       "      <td>225549.0</td>\n",
       "      <td>496474.0</td>\n",
       "      <td>1.0</td>\n",
       "      <td>0.0</td>\n",
       "    </tr>\n",
       "    <tr>\n",
       "      <th>14</th>\n",
       "      <td>1</td>\n",
       "      <td>234124.0</td>\n",
       "      <td>1</td>\n",
       "      <td>727.0</td>\n",
       "      <td>693234.0</td>\n",
       "      <td>1</td>\n",
       "      <td>3</td>\n",
       "      <td>3</td>\n",
       "      <td>14211.24</td>\n",
       "      <td>24.7</td>\n",
       "      <td>10.0</td>\n",
       "      <td>1.0</td>\n",
       "      <td>28291.0</td>\n",
       "      <td>107052.0</td>\n",
       "      <td>1.0</td>\n",
       "      <td>0.0</td>\n",
       "    </tr>\n",
       "    <tr>\n",
       "      <th>15</th>\n",
       "      <td>1</td>\n",
       "      <td>449020.0</td>\n",
       "      <td>0</td>\n",
       "      <td>NaN</td>\n",
       "      <td>NaN</td>\n",
       "      <td>9</td>\n",
       "      <td>2</td>\n",
       "      <td>3</td>\n",
       "      <td>18904.81</td>\n",
       "      <td>19.4</td>\n",
       "      <td>8.0</td>\n",
       "      <td>0.0</td>\n",
       "      <td>334533.0</td>\n",
       "      <td>428956.0</td>\n",
       "      <td>0.0</td>\n",
       "      <td>0.0</td>\n",
       "    </tr>\n",
       "    <tr>\n",
       "      <th>16</th>\n",
       "      <td>0</td>\n",
       "      <td>653004.0</td>\n",
       "      <td>0</td>\n",
       "      <td>NaN</td>\n",
       "      <td>NaN</td>\n",
       "      <td>7</td>\n",
       "      <td>1</td>\n",
       "      <td>3</td>\n",
       "      <td>14537.09</td>\n",
       "      <td>20.5</td>\n",
       "      <td>9.0</td>\n",
       "      <td>0.0</td>\n",
       "      <td>302309.0</td>\n",
       "      <td>413754.0</td>\n",
       "      <td>0.0</td>\n",
       "      <td>0.0</td>\n",
       "    </tr>\n",
       "    <tr>\n",
       "      <th>17</th>\n",
       "      <td>1</td>\n",
       "      <td>666204.0</td>\n",
       "      <td>0</td>\n",
       "      <td>723.0</td>\n",
       "      <td>1821967.0</td>\n",
       "      <td>1</td>\n",
       "      <td>1</td>\n",
       "      <td>3</td>\n",
       "      <td>17612.24</td>\n",
       "      <td>22.0</td>\n",
       "      <td>15.0</td>\n",
       "      <td>0.0</td>\n",
       "      <td>813694.0</td>\n",
       "      <td>2004618.0</td>\n",
       "      <td>0.0</td>\n",
       "      <td>0.0</td>\n",
       "    </tr>\n",
       "    <tr>\n",
       "      <th>18</th>\n",
       "      <td>1</td>\n",
       "      <td>66396.0</td>\n",
       "      <td>1</td>\n",
       "      <td>NaN</td>\n",
       "      <td>NaN</td>\n",
       "      <td>1</td>\n",
       "      <td>3</td>\n",
       "      <td>3</td>\n",
       "      <td>9898.81</td>\n",
       "      <td>27.1</td>\n",
       "      <td>23.0</td>\n",
       "      <td>1.0</td>\n",
       "      <td>9728.0</td>\n",
       "      <td>402380.0</td>\n",
       "      <td>1.0</td>\n",
       "      <td>0.0</td>\n",
       "    </tr>\n",
       "    <tr>\n",
       "      <th>19</th>\n",
       "      <td>1</td>\n",
       "      <td>390390.0</td>\n",
       "      <td>1</td>\n",
       "      <td>747.0</td>\n",
       "      <td>1791738.0</td>\n",
       "      <td>8</td>\n",
       "      <td>1</td>\n",
       "      <td>5</td>\n",
       "      <td>2478.55</td>\n",
       "      <td>22.7</td>\n",
       "      <td>6.0</td>\n",
       "      <td>0.0</td>\n",
       "      <td>121182.0</td>\n",
       "      <td>801812.0</td>\n",
       "      <td>0.0</td>\n",
       "      <td>0.0</td>\n",
       "    </tr>\n",
       "  </tbody>\n",
       "</table>\n",
       "</div>"
      ],
      "text/plain": [
       "    Loan Status  Current Loan Amount  Term  Credit Score  Annual Income  \\\n",
       "0             1             445412.0     1         709.0      1167493.0   \n",
       "1             1             262328.0     1           NaN            NaN   \n",
       "2             1           99999999.0     1         741.0      2231892.0   \n",
       "3             1             347666.0     0         721.0       806949.0   \n",
       "4             1             176220.0     1           NaN            NaN   \n",
       "5             0             206602.0     1        7290.0       896857.0   \n",
       "6             1             217646.0     1         730.0      1184194.0   \n",
       "7             0             648714.0     0           NaN            NaN   \n",
       "8             1             548746.0     1         678.0      2559110.0   \n",
       "9             1             215952.0     1         739.0      1454735.0   \n",
       "10            1           99999999.0     1         728.0       714628.0   \n",
       "11            1             541970.0     1           NaN            NaN   \n",
       "12            1           99999999.0     1         740.0       776188.0   \n",
       "13            1           99999999.0     1         743.0      1560907.0   \n",
       "14            1             234124.0     1         727.0       693234.0   \n",
       "15            1             449020.0     0           NaN            NaN   \n",
       "16            0             653004.0     0           NaN            NaN   \n",
       "17            1             666204.0     0         723.0      1821967.0   \n",
       "18            1              66396.0     1           NaN            NaN   \n",
       "19            1             390390.0     1         747.0      1791738.0   \n",
       "\n",
       "    Years in current job  Home Ownership  Purpose  Monthly Debt  \\\n",
       "0                      8               1        5       5214.74   \n",
       "1                      1               1        3      33295.98   \n",
       "2                      8               2        3      29200.53   \n",
       "3                      3               2        3       8741.90   \n",
       "4                      5               3        3      20639.70   \n",
       "5                      1               1        3      16367.74   \n",
       "6                     10               1        3      10855.08   \n",
       "7                     10               1        1      14806.13   \n",
       "8                      2               3        3      18660.28   \n",
       "9                     10               3        3      39277.75   \n",
       "10                     3               3        3      11851.06   \n",
       "11                     1               1        5      23568.55   \n",
       "12                    10               2        3      11578.22   \n",
       "13                     4               3        3      17560.37   \n",
       "14                     1               3        3      14211.24   \n",
       "15                     9               2        3      18904.81   \n",
       "16                     7               1        3      14537.09   \n",
       "17                     1               1        3      17612.24   \n",
       "18                     1               3        3       9898.81   \n",
       "19                     8               1        5       2478.55   \n",
       "\n",
       "    Years of Credit History  Number of Open Accounts  \\\n",
       "0                      17.2                      6.0   \n",
       "1                      21.1                     35.0   \n",
       "2                      14.9                     18.0   \n",
       "3                      12.0                      9.0   \n",
       "4                       6.1                     15.0   \n",
       "5                      17.3                      6.0   \n",
       "6                      19.6                     13.0   \n",
       "7                       8.2                     15.0   \n",
       "8                      22.6                      4.0   \n",
       "9                      13.9                     20.0   \n",
       "10                     16.0                     16.0   \n",
       "11                     23.2                     23.0   \n",
       "12                      8.5                      6.0   \n",
       "13                     13.3                     10.0   \n",
       "14                     24.7                     10.0   \n",
       "15                     19.4                      8.0   \n",
       "16                     20.5                      9.0   \n",
       "17                     22.0                     15.0   \n",
       "18                     27.1                     23.0   \n",
       "19                     22.7                      6.0   \n",
       "\n",
       "    Number of Credit Problems  Current Credit Balance  Maximum Open Credit  \\\n",
       "0                         1.0                228190.0             416746.0   \n",
       "1                         0.0                229976.0             850784.0   \n",
       "2                         1.0                297996.0             750090.0   \n",
       "3                         0.0                256329.0             386958.0   \n",
       "4                         0.0                253460.0             427174.0   \n",
       "5                         0.0                215308.0             272448.0   \n",
       "6                         1.0                122170.0             272052.0   \n",
       "7                         0.0                193306.0             864204.0   \n",
       "8                         0.0                437171.0             555038.0   \n",
       "9                         0.0                669560.0            1021460.0   \n",
       "10                        0.0                203965.0             289784.0   \n",
       "11                        0.0                 60705.0            1634468.0   \n",
       "12                        0.0                134083.0             220220.0   \n",
       "13                        1.0                225549.0             496474.0   \n",
       "14                        1.0                 28291.0             107052.0   \n",
       "15                        0.0                334533.0             428956.0   \n",
       "16                        0.0                302309.0             413754.0   \n",
       "17                        0.0                813694.0            2004618.0   \n",
       "18                        1.0                  9728.0             402380.0   \n",
       "19                        0.0                121182.0             801812.0   \n",
       "\n",
       "    Bankruptcies  Tax Liens  \n",
       "0            1.0        0.0  \n",
       "1            0.0        0.0  \n",
       "2            0.0        0.0  \n",
       "3            0.0        0.0  \n",
       "4            0.0        0.0  \n",
       "5            0.0        0.0  \n",
       "6            1.0        0.0  \n",
       "7            0.0        0.0  \n",
       "8            0.0        0.0  \n",
       "9            0.0        0.0  \n",
       "10           0.0        0.0  \n",
       "11           0.0        0.0  \n",
       "12           0.0        0.0  \n",
       "13           1.0        0.0  \n",
       "14           1.0        0.0  \n",
       "15           0.0        0.0  \n",
       "16           0.0        0.0  \n",
       "17           0.0        0.0  \n",
       "18           1.0        0.0  \n",
       "19           0.0        0.0  "
      ]
     },
     "execution_count": 172,
     "metadata": {},
     "output_type": "execute_result"
    }
   ],
   "source": [
    "data.head(20)"
   ]
  },
  {
   "cell_type": "markdown",
   "id": "de558739",
   "metadata": {},
   "source": [
    "# Filling missing data"
   ]
  },
  {
   "cell_type": "markdown",
   "id": "be5dd946",
   "metadata": {},
   "source": [
    "filling data with mean, median or mode"
   ]
  },
  {
   "cell_type": "code",
   "execution_count": 27,
   "id": "03c919a6",
   "metadata": {},
   "outputs": [
    {
     "data": {
      "text/plain": [
       "(0.0, 1000.0)"
      ]
     },
     "execution_count": 27,
     "metadata": {},
     "output_type": "execute_result"
    },
    {
     "data": {
      "image/png": "[encoded data removed]",
      "text/plain": [
       "<Figure size 432x288 with 1 Axes>"
      ]
     },
     "metadata": {
      "needs_background": "light"
     },
     "output_type": "display_data"
    }
   ],
   "source": [
    "sns.histplot(x= 'Credit Score',data =data)\n",
    "\n",
    "plt.ylim(500, 2500)\n",
    "plt.xlim(0,1000)\n",
    "# USE MEDIAN TO FILL DATA"
   ]
  },
  {
   "cell_type": "code",
   "execution_count": 28,
   "id": "bfb4d6e8",
   "metadata": {},
   "outputs": [
    {
     "data": {
      "text/plain": [
       "(0.0, 2500.0)"
      ]
     },
     "execution_count": 28,
     "metadata": {},
     "output_type": "execute_result"
    },
    {
     "data": {
      "image/png": "[encoded data removed]",
      "text/plain": [
       "<Figure size 432x288 with 1 Axes>"
      ]
     },
     "metadata": {
      "needs_background": "light"
     },
     "output_type": "display_data"
    }
   ],
   "source": [
    "sns.histplot(x= 'Annual Income',data =data)\n",
    "plt.ylim(0,2500)\n",
    "#MEDIAN"
   ]
  },
  {
   "cell_type": "code",
   "execution_count": 29,
   "id": "f255e768",
   "metadata": {},
   "outputs": [
    {
     "data": {
      "text/plain": [
       "<AxesSubplot:xlabel='Years in current job', ylabel='Count'>"
      ]
     },
     "execution_count": 29,
     "metadata": {},
     "output_type": "execute_result"
    },
    {
     "data": {
      "image/png": "[encoded data removed]",
      "text/plain": [
       "<Figure size 432x288 with 1 Axes>"
      ]
     },
     "metadata": {
      "needs_background": "light"
     },
     "output_type": "display_data"
    }
   ],
   "source": [
    "sns.histplot(x= 'Years in current job',data =data)\n",
    "#MEAN"
   ]
  },
  {
   "cell_type": "code",
   "execution_count": 30,
   "id": "1fc5fd08",
   "metadata": {},
   "outputs": [
    {
     "data": {
      "text/plain": [
       "<AxesSubplot:xlabel='Bankruptcies', ylabel='Count'>"
      ]
     },
     "execution_count": 30,
     "metadata": {},
     "output_type": "execute_result"
    },
    {
     "data": {
      "image/png": "[encoded data removed]",
      "text/plain": [
       "<Figure size 432x288 with 1 Axes>"
      ]
     },
     "metadata": {
      "needs_background": "light"
     },
     "output_type": "display_data"
    }
   ],
   "source": [
    "sns.histplot(x= 'Bankruptcies',data =data)\n",
    "#MEDIAN"
   ]
  },
  {
   "cell_type": "code",
   "execution_count": 31,
   "id": "e8e78664",
   "metadata": {},
   "outputs": [
    {
     "data": {
      "text/plain": [
       "<AxesSubplot:xlabel='Tax Liens', ylabel='Count'>"
      ]
     },
     "execution_count": 31,
     "metadata": {},
     "output_type": "execute_result"
    },
    {
     "data": {
      "image/png": "[encoded data removed]",
      "text/plain": [
       "<Figure size 432x288 with 1 Axes>"
      ]
     },
     "metadata": {
      "needs_background": "light"
     },
     "output_type": "display_data"
    }
   ],
   "source": [
    "sns.histplot(x= 'Tax Liens',data =data)\n",
    "#MODE"
   ]
  },
  {
   "cell_type": "code",
   "execution_count": 32,
   "id": "ada3ab6a",
   "metadata": {},
   "outputs": [],
   "source": [
    "imputerl = SimpleImputer(strategy='median', missing_values=np.nan)\n",
    "imputerl = imputerl.fit(data[['Credit Score']])\n",
    "data['Credit Score'] = imputerl.transform(data[['Credit Score']])\n",
    "imputer2 = SimpleImputer(strategy='median', missing_values=np.nan)\n",
    "imputer2 = imputer2.fit(data[['Maximum Open Credit']])\n",
    "data['Maximum Open Credit'] = imputer2.transform(data[['Maximum Open Credit']])\n",
    "imputer3 = SimpleImputer(strategy='median', missing_values=np.nan)\n",
    "imputer3 = imputer3.fit(data[['Annual Income']])\n",
    "data['Annual Income'] = imputer3.transform(data[['Annual Income']])\n",
    "imputer4 = SimpleImputer(strategy='most_frequent', missing_values=np.nan)\n",
    "imputer4 = imputer4.fit(data[['Tax Liens']])\n",
    "data['Tax Liens'] = imputer4.transform(data[['Tax Liens']])\n",
    "imputer5 = SimpleImputer(strategy='median', missing_values=np.nan)\n",
    "imputer5 = imputer5.fit(data[['Bankruptcies']])\n",
    "data['Bankruptcies'] = imputer5.transform(data[['Bankruptcies']])\n",
    "imputer6 = SimpleImputer(strategy='mean', missing_values=np.nan)\n",
    "imputer6 = imputer6.fit(data[['Years in current job']])\n",
    "data['Years in current job'] = imputer5.transform(data[['Years in current job']])"
   ]
  },
  {
   "cell_type": "code",
   "execution_count": 33,
   "id": "0d585ba0",
   "metadata": {},
   "outputs": [
    {
     "data": {
      "text/html": [
       "<div>\n",
       "<style scoped>\n",
       "    .dataframe tbody tr th:only-of-type {\n",
       "        vertical-align: middle;\n",
       "    }\n",
       "\n",
       "    .dataframe tbody tr th {\n",
       "        vertical-align: top;\n",
       "    }\n",
       "\n",
       "    .dataframe thead th {\n",
       "        text-align: right;\n",
       "    }\n",
       "</style>\n",
       "<table border=\"1\" class=\"dataframe\">\n",
       "  <thead>\n",
       "    <tr style=\"text-align: right;\">\n",
       "      <th></th>\n",
       "      <th>Loan Status</th>\n",
       "      <th>Current Loan Amount</th>\n",
       "      <th>Term</th>\n",
       "      <th>Credit Score</th>\n",
       "      <th>Annual Income</th>\n",
       "      <th>Years in current job</th>\n",
       "      <th>Home Ownership</th>\n",
       "      <th>Purpose</th>\n",
       "      <th>Monthly Debt</th>\n",
       "      <th>Years of Credit History</th>\n",
       "      <th>Number of Open Accounts</th>\n",
       "      <th>Number of Credit Problems</th>\n",
       "      <th>Current Credit Balance</th>\n",
       "      <th>Maximum Open Credit</th>\n",
       "      <th>Bankruptcies</th>\n",
       "      <th>Tax Liens</th>\n",
       "    </tr>\n",
       "  </thead>\n",
       "  <tbody>\n",
       "    <tr>\n",
       "      <th>99995</th>\n",
       "      <td>1</td>\n",
       "      <td>147070.0</td>\n",
       "      <td>1</td>\n",
       "      <td>725.0</td>\n",
       "      <td>475437.0</td>\n",
       "      <td>7.0</td>\n",
       "      <td>2</td>\n",
       "      <td>11</td>\n",
       "      <td>2202.86</td>\n",
       "      <td>22.3</td>\n",
       "      <td>5.0</td>\n",
       "      <td>0.0</td>\n",
       "      <td>47766.0</td>\n",
       "      <td>658548.0</td>\n",
       "      <td>0.0</td>\n",
       "      <td>0.0</td>\n",
       "    </tr>\n",
       "    <tr>\n",
       "      <th>99996</th>\n",
       "      <td>1</td>\n",
       "      <td>99999999.0</td>\n",
       "      <td>1</td>\n",
       "      <td>732.0</td>\n",
       "      <td>1289416.0</td>\n",
       "      <td>0.0</td>\n",
       "      <td>3</td>\n",
       "      <td>3</td>\n",
       "      <td>13109.05</td>\n",
       "      <td>9.4</td>\n",
       "      <td>22.0</td>\n",
       "      <td>0.0</td>\n",
       "      <td>153045.0</td>\n",
       "      <td>509234.0</td>\n",
       "      <td>0.0</td>\n",
       "      <td>0.0</td>\n",
       "    </tr>\n",
       "    <tr>\n",
       "      <th>99997</th>\n",
       "      <td>1</td>\n",
       "      <td>103136.0</td>\n",
       "      <td>1</td>\n",
       "      <td>742.0</td>\n",
       "      <td>1150545.0</td>\n",
       "      <td>6.0</td>\n",
       "      <td>3</td>\n",
       "      <td>3</td>\n",
       "      <td>7315.57</td>\n",
       "      <td>18.8</td>\n",
       "      <td>12.0</td>\n",
       "      <td>1.0</td>\n",
       "      <td>109554.0</td>\n",
       "      <td>537548.0</td>\n",
       "      <td>1.0</td>\n",
       "      <td>0.0</td>\n",
       "    </tr>\n",
       "    <tr>\n",
       "      <th>99998</th>\n",
       "      <td>1</td>\n",
       "      <td>530332.0</td>\n",
       "      <td>1</td>\n",
       "      <td>746.0</td>\n",
       "      <td>1717524.0</td>\n",
       "      <td>9.0</td>\n",
       "      <td>3</td>\n",
       "      <td>3</td>\n",
       "      <td>9890.07</td>\n",
       "      <td>15.0</td>\n",
       "      <td>8.0</td>\n",
       "      <td>0.0</td>\n",
       "      <td>404225.0</td>\n",
       "      <td>738254.0</td>\n",
       "      <td>0.0</td>\n",
       "      <td>0.0</td>\n",
       "    </tr>\n",
       "    <tr>\n",
       "      <th>99999</th>\n",
       "      <td>1</td>\n",
       "      <td>99999999.0</td>\n",
       "      <td>1</td>\n",
       "      <td>743.0</td>\n",
       "      <td>935180.0</td>\n",
       "      <td>11.0</td>\n",
       "      <td>2</td>\n",
       "      <td>3</td>\n",
       "      <td>9118.10</td>\n",
       "      <td>13.0</td>\n",
       "      <td>4.0</td>\n",
       "      <td>1.0</td>\n",
       "      <td>45600.0</td>\n",
       "      <td>91014.0</td>\n",
       "      <td>1.0</td>\n",
       "      <td>0.0</td>\n",
       "    </tr>\n",
       "  </tbody>\n",
       "</table>\n",
       "</div>"
      ],
      "text/plain": [
       "       Loan Status  Current Loan Amount  Term  Credit Score  Annual Income  \\\n",
       "99995            1             147070.0     1         725.0       475437.0   \n",
       "99996            1           99999999.0     1         732.0      1289416.0   \n",
       "99997            1             103136.0     1         742.0      1150545.0   \n",
       "99998            1             530332.0     1         746.0      1717524.0   \n",
       "99999            1           99999999.0     1         743.0       935180.0   \n",
       "\n",
       "       Years in current job  Home Ownership  Purpose  Monthly Debt  \\\n",
       "99995                   7.0               2       11       2202.86   \n",
       "99996                   0.0               3        3      13109.05   \n",
       "99997                   6.0               3        3       7315.57   \n",
       "99998                   9.0               3        3       9890.07   \n",
       "99999                  11.0               2        3       9118.10   \n",
       "\n",
       "       Years of Credit History  Number of Open Accounts  \\\n",
       "99995                     22.3                      5.0   \n",
       "99996                      9.4                     22.0   \n",
       "99997                     18.8                     12.0   \n",
       "99998                     15.0                      8.0   \n",
       "99999                     13.0                      4.0   \n",
       "\n",
       "       Number of Credit Problems  Current Credit Balance  Maximum Open Credit  \\\n",
       "99995                        0.0                 47766.0             658548.0   \n",
       "99996                        0.0                153045.0             509234.0   \n",
       "99997                        1.0                109554.0             537548.0   \n",
       "99998                        0.0                404225.0             738254.0   \n",
       "99999                        1.0                 45600.0              91014.0   \n",
       "\n",
       "       Bankruptcies  Tax Liens  \n",
       "99995           0.0        0.0  \n",
       "99996           0.0        0.0  \n",
       "99997           1.0        0.0  \n",
       "99998           0.0        0.0  \n",
       "99999           1.0        0.0  "
      ]
     },
     "execution_count": 33,
     "metadata": {},
     "output_type": "execute_result"
    }
   ],
   "source": [
    "data.tail()"
   ]
  },
  {
   "cell_type": "markdown",
   "id": "d5618e00",
   "metadata": {},
   "source": [
    "# Outliers"
   ]
  },
  {
   "cell_type": "code",
   "execution_count": 34,
   "id": "ebdf44fc",
   "metadata": {},
   "outputs": [
    {
     "data": {
      "text/plain": [
       "[Text(0, 0, 'Loan Status'),\n",
       " Text(1, 0, 'Current Loan Amount'),\n",
       " Text(2, 0, 'Term'),\n",
       " Text(3, 0, 'Credit Score'),\n",
       " Text(4, 0, 'Annual Income'),\n",
       " Text(5, 0, 'Years in current job'),\n",
       " Text(6, 0, 'Home Ownership'),\n",
       " Text(7, 0, 'Purpose'),\n",
       " Text(8, 0, 'Monthly Debt'),\n",
       " Text(9, 0, 'Years of Credit History'),\n",
       " Text(10, 0, 'Number of Open Accounts'),\n",
       " Text(11, 0, 'Number of Credit Problems'),\n",
       " Text(12, 0, 'Current Credit Balance'),\n",
       " Text(13, 0, 'Maximum Open Credit'),\n",
       " Text(14, 0, 'Bankruptcies'),\n",
       " Text(15, 0, 'Tax Liens')]"
      ]
     },
     "execution_count": 34,
     "metadata": {},
     "output_type": "execute_result"
    },
    {
     "data": {
      "image/png": "[encoded data removed]",
      "text/plain": [
       "<Figure size 1800x576 with 1 Axes>"
      ]
     },
     "metadata": {
      "needs_background": "light"
     },
     "output_type": "display_data"
    }
   ],
   "source": [
    "plt.figure(figsize = (25,8))\n",
    "u = sns.boxplot(palette = 'cool', data=data)\n",
    "u.set_xticklabels(u.get_xticklabels(),rotation=45)"
   ]
  },
  {
   "cell_type": "code",
   "execution_count": 35,
   "id": "bc5457d8",
   "metadata": {},
   "outputs": [
    {
     "name": "stdout",
     "output_type": "stream",
     "text": [
      "Old Shape:  (100000, 16)\n",
      "New Shape:  (93087, 16)\n"
     ]
    }
   ],
   "source": [
    "Q1 = np.percentile(data['Annual Income'], 25,\n",
    "                   interpolation = 'midpoint')\n",
    " \n",
    "Q3 = np.percentile(data['Annual Income'], 75,\n",
    "                   interpolation = 'midpoint')\n",
    "IQR = Q3 - Q1\n",
    " \n",
    "print(\"Old Shape: \", data.shape)\n",
    " \n",
    "# Upper bound\n",
    "upper = np.where(data['Annual Income'] >= (Q3+1.5*IQR))\n",
    "# Lower bound\n",
    "lower = np.where(data['Annual Income'] <= (Q1-1.5*IQR))\n",
    " \n",
    "''' Removing the Outliers '''\n",
    "data.drop(upper[0], inplace = True)\n",
    "data.drop(lower[0], inplace = True)\n",
    " \n",
    "print(\"New Shape: \", data.shape)"
   ]
  },
  {
   "cell_type": "code",
   "execution_count": 36,
   "id": "d1c04705",
   "metadata": {},
   "outputs": [],
   "source": [
    "data = data.drop(data[data['Maximum Open Credit']>7.1**8].index)"
   ]
  },
  {
   "cell_type": "code",
   "execution_count": 37,
   "id": "e1e5511b",
   "metadata": {},
   "outputs": [
    {
     "data": {
      "text/plain": [
       "[Text(0, 0, 'Loan Status'),\n",
       " Text(1, 0, 'Current Loan Amount'),\n",
       " Text(2, 0, 'Term'),\n",
       " Text(3, 0, 'Credit Score'),\n",
       " Text(4, 0, 'Annual Income'),\n",
       " Text(5, 0, 'Years in current job'),\n",
       " Text(6, 0, 'Home Ownership'),\n",
       " Text(7, 0, 'Purpose'),\n",
       " Text(8, 0, 'Monthly Debt'),\n",
       " Text(9, 0, 'Years of Credit History'),\n",
       " Text(10, 0, 'Number of Open Accounts'),\n",
       " Text(11, 0, 'Number of Credit Problems'),\n",
       " Text(12, 0, 'Current Credit Balance'),\n",
       " Text(13, 0, 'Maximum Open Credit'),\n",
       " Text(14, 0, 'Bankruptcies'),\n",
       " Text(15, 0, 'Tax Liens')]"
      ]
     },
     "execution_count": 37,
     "metadata": {},
     "output_type": "execute_result"
    },
    {
     "data": {
      "image/png": "[encoded data removed]",
      "text/plain": [
       "<Figure size 1800x576 with 1 Axes>"
      ]
     },
     "metadata": {
      "needs_background": "light"
     },
     "output_type": "display_data"
    }
   ],
   "source": [
    "plt.figure(figsize = (25,8))\n",
    "u = sns.boxplot(palette = 'cool', data=data)\n",
    "u.set_xticklabels(u.get_xticklabels(),rotation=45)"
   ]
  },
  {
   "cell_type": "markdown",
   "id": "c3307b31",
   "metadata": {},
   "source": [
    "# VIF"
   ]
  },
  {
   "cell_type": "code",
   "execution_count": 38,
   "id": "ee5aee97",
   "metadata": {},
   "outputs": [
    {
     "data": {
      "text/plain": [
       "Loan Status                   4.802465\n",
       "Current Loan Amount           1.180856\n",
       "Term                          3.675121\n",
       "Credit Score                  1.739506\n",
       "Annual Income                10.181086\n",
       "Years in current job          2.321346\n",
       "Home Ownership                4.455917\n",
       "Purpose                       3.539987\n",
       "Monthly Debt                  6.957563\n",
       "Years of Credit History       7.385807\n",
       "Number of Open Accounts       7.435102\n",
       "Number of Credit Problems     8.069631\n",
       "Current Credit Balance        6.194095\n",
       "Maximum Open Credit           6.130317\n",
       "Bankruptcies                  5.512520\n",
       "Tax Liens                     2.984734\n",
       "dtype: float64"
      ]
     },
     "execution_count": 38,
     "metadata": {},
     "output_type": "execute_result"
    }
   ],
   "source": [
    "from statsmodels.stats.outliers_influence import variance_inflation_factor\n",
    "vif_data=data\n",
    "VIF=pd.Series([variance_inflation_factor(vif_data.values,i) \n",
    "for i in range(vif_data.shape[1])],index=vif_data.columns)\n",
    "VIF"
   ]
  },
  {
   "cell_type": "markdown",
   "id": "907f346d",
   "metadata": {},
   "source": [
    "## Treatment of multicolinearity:"
   ]
  },
  {
   "cell_type": "code",
   "execution_count": 39,
   "id": "13205cae",
   "metadata": {},
   "outputs": [],
   "source": [
    "def MC_remover(data):\n",
    "    vif=pd.Series([variance_inflation_factor(data.values,i)for i in range(data.shape[1])],index=data.columns)\n",
    "    if vif.max()>5:\n",
    "        print(vif[vif == vif.max()].index[0],'has been removed')\n",
    "        data = data.drop(columns=[vif[vif==vif.max()].index[0]])\n",
    "        return data\n",
    "    else:\n",
    "        print(\"No multicollinearity present anymore\")\n",
    "        return data"
   ]
  },
  {
   "cell_type": "code",
   "execution_count": 40,
   "id": "e01aa935",
   "metadata": {},
   "outputs": [
    {
     "name": "stdout",
     "output_type": "stream",
     "text": [
      "Annual Income has been removed\n",
      "Number of Credit Problems has been removed\n",
      "Number of Open Accounts has been removed\n",
      "Years of Credit History has been removed\n",
      "Current Credit Balance has been removed\n",
      "No multicollinearity present anymore\n",
      "No multicollinearity present anymore\n",
      "No multicollinearity present anymore\n",
      "No multicollinearity present anymore\n",
      "No multicollinearity present anymore\n"
     ]
    },
    {
     "data": {
      "text/html": [
       "<div>\n",
       "<style scoped>\n",
       "    .dataframe tbody tr th:only-of-type {\n",
       "        vertical-align: middle;\n",
       "    }\n",
       "\n",
       "    .dataframe tbody tr th {\n",
       "        vertical-align: top;\n",
       "    }\n",
       "\n",
       "    .dataframe thead th {\n",
       "        text-align: right;\n",
       "    }\n",
       "</style>\n",
       "<table border=\"1\" class=\"dataframe\">\n",
       "  <thead>\n",
       "    <tr style=\"text-align: right;\">\n",
       "      <th></th>\n",
       "      <th>Loan Status</th>\n",
       "      <th>Current Loan Amount</th>\n",
       "      <th>Term</th>\n",
       "      <th>Credit Score</th>\n",
       "      <th>Years in current job</th>\n",
       "      <th>Home Ownership</th>\n",
       "      <th>Purpose</th>\n",
       "      <th>Monthly Debt</th>\n",
       "      <th>Maximum Open Credit</th>\n",
       "      <th>Bankruptcies</th>\n",
       "      <th>Tax Liens</th>\n",
       "    </tr>\n",
       "  </thead>\n",
       "  <tbody>\n",
       "    <tr>\n",
       "      <th>0</th>\n",
       "      <td>1</td>\n",
       "      <td>445412.0</td>\n",
       "      <td>1</td>\n",
       "      <td>709.0</td>\n",
       "      <td>8.0</td>\n",
       "      <td>1</td>\n",
       "      <td>5</td>\n",
       "      <td>5214.74</td>\n",
       "      <td>416746.0</td>\n",
       "      <td>1.0</td>\n",
       "      <td>0.0</td>\n",
       "    </tr>\n",
       "    <tr>\n",
       "      <th>1</th>\n",
       "      <td>1</td>\n",
       "      <td>262328.0</td>\n",
       "      <td>1</td>\n",
       "      <td>724.0</td>\n",
       "      <td>1.0</td>\n",
       "      <td>1</td>\n",
       "      <td>3</td>\n",
       "      <td>33295.98</td>\n",
       "      <td>850784.0</td>\n",
       "      <td>0.0</td>\n",
       "      <td>0.0</td>\n",
       "    </tr>\n",
       "    <tr>\n",
       "      <th>2</th>\n",
       "      <td>1</td>\n",
       "      <td>99999999.0</td>\n",
       "      <td>1</td>\n",
       "      <td>741.0</td>\n",
       "      <td>8.0</td>\n",
       "      <td>2</td>\n",
       "      <td>3</td>\n",
       "      <td>29200.53</td>\n",
       "      <td>750090.0</td>\n",
       "      <td>0.0</td>\n",
       "      <td>0.0</td>\n",
       "    </tr>\n",
       "    <tr>\n",
       "      <th>3</th>\n",
       "      <td>1</td>\n",
       "      <td>347666.0</td>\n",
       "      <td>0</td>\n",
       "      <td>721.0</td>\n",
       "      <td>3.0</td>\n",
       "      <td>2</td>\n",
       "      <td>3</td>\n",
       "      <td>8741.90</td>\n",
       "      <td>386958.0</td>\n",
       "      <td>0.0</td>\n",
       "      <td>0.0</td>\n",
       "    </tr>\n",
       "    <tr>\n",
       "      <th>4</th>\n",
       "      <td>1</td>\n",
       "      <td>176220.0</td>\n",
       "      <td>1</td>\n",
       "      <td>724.0</td>\n",
       "      <td>5.0</td>\n",
       "      <td>3</td>\n",
       "      <td>3</td>\n",
       "      <td>20639.70</td>\n",
       "      <td>427174.0</td>\n",
       "      <td>0.0</td>\n",
       "      <td>0.0</td>\n",
       "    </tr>\n",
       "  </tbody>\n",
       "</table>\n",
       "</div>"
      ],
      "text/plain": [
       "   Loan Status  Current Loan Amount  Term  Credit Score  Years in current job  \\\n",
       "0            1             445412.0     1         709.0                   8.0   \n",
       "1            1             262328.0     1         724.0                   1.0   \n",
       "2            1           99999999.0     1         741.0                   8.0   \n",
       "3            1             347666.0     0         721.0                   3.0   \n",
       "4            1             176220.0     1         724.0                   5.0   \n",
       "\n",
       "   Home Ownership  Purpose  Monthly Debt  Maximum Open Credit  Bankruptcies  \\\n",
       "0               1        5       5214.74             416746.0           1.0   \n",
       "1               1        3      33295.98             850784.0           0.0   \n",
       "2               2        3      29200.53             750090.0           0.0   \n",
       "3               2        3       8741.90             386958.0           0.0   \n",
       "4               3        3      20639.70             427174.0           0.0   \n",
       "\n",
       "   Tax Liens  \n",
       "0        0.0  \n",
       "1        0.0  \n",
       "2        0.0  \n",
       "3        0.0  \n",
       "4        0.0  "
      ]
     },
     "execution_count": 40,
     "metadata": {},
     "output_type": "execute_result"
    }
   ],
   "source": [
    "for i in range(10):\n",
    "    vif_data=MC_remover(vif_data)\n",
    "vif_data.head()"
   ]
  },
  {
   "cell_type": "markdown",
   "id": "19d31e9f",
   "metadata": {},
   "source": [
    "### CALCULATING VIF FOR OTHER COLOUMNS"
   ]
  },
  {
   "cell_type": "code",
   "execution_count": 41,
   "id": "205b42ce",
   "metadata": {},
   "outputs": [
    {
     "data": {
      "text/plain": [
       "(Loan Status             4.236018\n",
       " Current Loan Amount     1.180277\n",
       " Term                    3.562582\n",
       " Credit Score            1.656837\n",
       " Years in current job    2.279806\n",
       " Home Ownership          4.251398\n",
       " Purpose                 3.343688\n",
       " Monthly Debt            3.716726\n",
       " Maximum Open Credit     2.599917\n",
       " Bankruptcies            1.125139\n",
       " Tax Liens               1.014959\n",
       " dtype: float64,\n",
       " 11)"
      ]
     },
     "execution_count": 41,
     "metadata": {},
     "output_type": "execute_result"
    }
   ],
   "source": [
    "VIF=pd.Series([variance_inflation_factor(vif_data.values,i) for i in range(vif_data.shape[1])],index=vif_data.columns)\n",
    "VIF,len(vif_data.columns)"
   ]
  },
  {
   "cell_type": "code",
   "execution_count": null,
   "id": "444b275c",
   "metadata": {},
   "outputs": [],
   "source": []
  },
  {
   "cell_type": "markdown",
   "id": "e92623c4",
   "metadata": {},
   "source": [
    "# SPLITTING DATA"
   ]
  },
  {
   "cell_type": "code",
   "execution_count": 42,
   "id": "ef5a9c99",
   "metadata": {},
   "outputs": [],
   "source": [
    "from sklearn.model_selection import train_test_split"
   ]
  },
  {
   "cell_type": "code",
   "execution_count": 43,
   "id": "4bb0c28d",
   "metadata": {},
   "outputs": [],
   "source": [
    "x= data.drop(['Loan Status' ] , axis=1).values\n",
    "y = data['Loan Status'].values\n"
   ]
  },
  {
   "cell_type": "code",
   "execution_count": 44,
   "id": "b997efbf",
   "metadata": {},
   "outputs": [
    {
     "data": {
      "text/plain": [
       "71272"
      ]
     },
     "execution_count": 44,
     "metadata": {},
     "output_type": "execute_result"
    }
   ],
   "source": [
    "y.sum()"
   ]
  },
  {
   "cell_type": "code",
   "execution_count": 45,
   "id": "ffb35339",
   "metadata": {},
   "outputs": [],
   "source": [
    "x_train , x_test , y_train , y_test = train_test_split(x , y , test_size= 0.2 , random_state= 42)"
   ]
  },
  {
   "cell_type": "code",
   "execution_count": 46,
   "id": "0eb3de44",
   "metadata": {},
   "outputs": [
    {
     "name": "stdout",
     "output_type": "stream",
     "text": [
      "X TRAIN SHAPE: (74251, 15)  X TEST SHAPE: (18563, 15)\n"
     ]
    }
   ],
   "source": [
    "print('X TRAIN SHAPE:',x_train.shape ,' X TEST SHAPE:',x_test.shape)\n"
   ]
  },
  {
   "cell_type": "code",
   "execution_count": 47,
   "id": "60bdb368",
   "metadata": {},
   "outputs": [
    {
     "data": {
      "text/plain": [
       "(74251,)"
      ]
     },
     "execution_count": 47,
     "metadata": {},
     "output_type": "execute_result"
    }
   ],
   "source": [
    "y_train.shape"
   ]
  },
  {
   "cell_type": "markdown",
   "id": "540acef2",
   "metadata": {},
   "source": [
    "\n",
    "# Scaling"
   ]
  },
  {
   "cell_type": "code",
   "execution_count": 48,
   "id": "cede5050",
   "metadata": {},
   "outputs": [],
   "source": [
    "from sklearn.preprocessing import StandardScaler "
   ]
  },
  {
   "cell_type": "code",
   "execution_count": 49,
   "id": "4e4aee66",
   "metadata": {},
   "outputs": [],
   "source": [
    "scalar = StandardScaler()\n"
   ]
  },
  {
   "cell_type": "code",
   "execution_count": 50,
   "id": "c7c6eb86",
   "metadata": {},
   "outputs": [],
   "source": [
    "x_train = scalar.fit_transform(x_train)"
   ]
  },
  {
   "cell_type": "code",
   "execution_count": 51,
   "id": "e1d920e7",
   "metadata": {},
   "outputs": [],
   "source": [
    "x_test = scalar.fit_transform(x_test)"
   ]
  },
  {
   "cell_type": "code",
   "execution_count": 52,
   "id": "1ca36713",
   "metadata": {},
   "outputs": [
    {
     "data": {
      "text/plain": [
       "(74251, 15)"
      ]
     },
     "execution_count": 52,
     "metadata": {},
     "output_type": "execute_result"
    }
   ],
   "source": [
    "x_train.shape"
   ]
  },
  {
   "cell_type": "markdown",
   "id": "9b327f5c",
   "metadata": {},
   "source": [
    "#  MODELS"
   ]
  },
  {
   "cell_type": "markdown",
   "id": "628bb2f2",
   "metadata": {},
   "source": [
    "## 1) LOGISTIC REGRESSIN:\n"
   ]
  },
  {
   "cell_type": "code",
   "execution_count": 173,
   "id": "6af9f694",
   "metadata": {},
   "outputs": [
    {
     "data": {
      "text/html": [
       "<div>\n",
       "<style scoped>\n",
       "    .dataframe tbody tr th:only-of-type {\n",
       "        vertical-align: middle;\n",
       "    }\n",
       "\n",
       "    .dataframe tbody tr th {\n",
       "        vertical-align: top;\n",
       "    }\n",
       "\n",
       "    .dataframe thead th {\n",
       "        text-align: right;\n",
       "    }\n",
       "</style>\n",
       "<table border=\"1\" class=\"dataframe\">\n",
       "  <thead>\n",
       "    <tr style=\"text-align: right;\">\n",
       "      <th></th>\n",
       "      <th>Y_test</th>\n",
       "      <th>Y_predict</th>\n",
       "    </tr>\n",
       "  </thead>\n",
       "  <tbody>\n",
       "    <tr>\n",
       "      <th>0</th>\n",
       "      <td>1</td>\n",
       "      <td>1.0</td>\n",
       "    </tr>\n",
       "    <tr>\n",
       "      <th>1</th>\n",
       "      <td>1</td>\n",
       "      <td>1.0</td>\n",
       "    </tr>\n",
       "    <tr>\n",
       "      <th>2</th>\n",
       "      <td>0</td>\n",
       "      <td>1.0</td>\n",
       "    </tr>\n",
       "    <tr>\n",
       "      <th>3</th>\n",
       "      <td>1</td>\n",
       "      <td>1.0</td>\n",
       "    </tr>\n",
       "    <tr>\n",
       "      <th>4</th>\n",
       "      <td>1</td>\n",
       "      <td>1.0</td>\n",
       "    </tr>\n",
       "  </tbody>\n",
       "</table>\n",
       "</div>"
      ],
      "text/plain": [
       "   Y_test  Y_predict\n",
       "0       1        1.0\n",
       "1       1        1.0\n",
       "2       0        1.0\n",
       "3       1        1.0\n",
       "4       1        1.0"
      ]
     },
     "execution_count": 173,
     "metadata": {},
     "output_type": "execute_result"
    }
   ],
   "source": [
    "from sklearn.linear_model import LogisticRegression\n",
    "\n",
    "lg = LogisticRegression(max_iter = 1500)\n",
    "\n"
   ]
  },
  {
   "cell_type": "markdown",
   "id": "f2beb1d9",
   "metadata": {},
   "source": [
    "#### TRAINING"
   ]
  },
  {
   "cell_type": "code",
   "execution_count": 120,
   "id": "fe7e4cd8",
   "metadata": {},
   "outputs": [
    {
     "data": {
      "text/plain": [
       "LogisticRegression(max_iter=1500)"
      ]
     },
     "execution_count": 120,
     "metadata": {},
     "output_type": "execute_result"
    }
   ],
   "source": [
    "lg.fit(x_train , y_train)\n"
   ]
  },
  {
   "cell_type": "code",
   "execution_count": 121,
   "id": "c9ae3fb9",
   "metadata": {},
   "outputs": [],
   "source": [
    "from sklearn.metrics import confusion_matrix\n",
    "from sklearn.metrics import precision_score, recall_score, f1_score, accuracy_score"
   ]
  },
  {
   "cell_type": "code",
   "execution_count": 127,
   "id": "afb02fd6",
   "metadata": {},
   "outputs": [
    {
     "name": "stdout",
     "output_type": "stream",
     "text": [
      "[1 1 1 ... 0 1 1]\n",
      "[1 1 0 ... 1 1 1]\n"
     ]
    }
   ],
   "source": [
    "x_pred=lg.predict(x_train)\n",
    "print(x_pred)\n",
    "print(y_test)"
   ]
  },
  {
   "cell_type": "code",
   "execution_count": 123,
   "id": "f67a953a",
   "metadata": {},
   "outputs": [
    {
     "name": "stdout",
     "output_type": "stream",
     "text": [
      "              precision    recall  f1-score   support\n",
      "\n",
      "           0       0.99      0.20      0.34      4221\n",
      "           1       0.81      1.00      0.90     14342\n",
      "\n",
      "    accuracy                           0.82     18563\n",
      "   macro avg       0.90      0.60      0.62     18563\n",
      "weighted avg       0.85      0.82      0.77     18563\n",
      "\n"
     ]
    }
   ],
   "source": [
    "lg.fit(x_train,y_train)\n",
    "predict=lg.predict(x_test)\n",
    "from sklearn.metrics import classification_report\n",
    "report=classification_report(y_test,predict)\n",
    "print(report)\n"
   ]
  },
  {
   "cell_type": "code",
   "execution_count": 124,
   "id": "e7854cb3",
   "metadata": {},
   "outputs": [
    {
     "name": "stdout",
     "output_type": "stream",
     "text": [
      "0.8950835024192291\n"
     ]
    }
   ],
   "source": [
    "from sklearn.metrics import  f1_score\n",
    "f1 = f1_score(y_test, predict, average='binary')\n",
    "print(f1)"
   ]
  },
  {
   "cell_type": "code",
   "execution_count": 59,
   "id": "3dad2858",
   "metadata": {},
   "outputs": [
    {
     "name": "stdout",
     "output_type": "stream",
     "text": [
      "p 0.8103204657209065\n",
      "r 0.999651373588063\n",
      "f1 0.8950835024192291\n",
      "a 0.8189409039487152\n"
     ]
    }
   ],
   "source": [
    "from sklearn.metrics import  precision_score, recall_score, f1_score, accuracy_score\n",
    "p = precision_score(y_test, predict, average='binary')\n",
    "r=recall_score(y_test,predict,average='binary')\n",
    "f1=f1_score(y_test, predict, average='binary')\n",
    "a=accuracy_score(y_test,predict)\n",
    "print('p' ,p)\n",
    "print('r', r)\n",
    "print('f1',f1)\n",
    "print('a',a)"
   ]
  },
  {
   "cell_type": "code",
   "execution_count": 60,
   "id": "6f67ea25",
   "metadata": {},
   "outputs": [
    {
     "data": {
      "text/html": [
       "<div>\n",
       "<style scoped>\n",
       "    .dataframe tbody tr th:only-of-type {\n",
       "        vertical-align: middle;\n",
       "    }\n",
       "\n",
       "    .dataframe tbody tr th {\n",
       "        vertical-align: top;\n",
       "    }\n",
       "\n",
       "    .dataframe thead th {\n",
       "        text-align: right;\n",
       "    }\n",
       "</style>\n",
       "<table border=\"1\" class=\"dataframe\">\n",
       "  <thead>\n",
       "    <tr style=\"text-align: right;\">\n",
       "      <th></th>\n",
       "      <th>Y_test</th>\n",
       "      <th>Y_predict</th>\n",
       "    </tr>\n",
       "  </thead>\n",
       "  <tbody>\n",
       "    <tr>\n",
       "      <th>0</th>\n",
       "      <td>1</td>\n",
       "      <td>1</td>\n",
       "    </tr>\n",
       "    <tr>\n",
       "      <th>1</th>\n",
       "      <td>1</td>\n",
       "      <td>1</td>\n",
       "    </tr>\n",
       "    <tr>\n",
       "      <th>2</th>\n",
       "      <td>0</td>\n",
       "      <td>0</td>\n",
       "    </tr>\n",
       "    <tr>\n",
       "      <th>3</th>\n",
       "      <td>1</td>\n",
       "      <td>1</td>\n",
       "    </tr>\n",
       "    <tr>\n",
       "      <th>4</th>\n",
       "      <td>1</td>\n",
       "      <td>1</td>\n",
       "    </tr>\n",
       "    <tr>\n",
       "      <th>...</th>\n",
       "      <td>...</td>\n",
       "      <td>...</td>\n",
       "    </tr>\n",
       "    <tr>\n",
       "      <th>18558</th>\n",
       "      <td>0</td>\n",
       "      <td>1</td>\n",
       "    </tr>\n",
       "    <tr>\n",
       "      <th>18559</th>\n",
       "      <td>1</td>\n",
       "      <td>1</td>\n",
       "    </tr>\n",
       "    <tr>\n",
       "      <th>18560</th>\n",
       "      <td>1</td>\n",
       "      <td>1</td>\n",
       "    </tr>\n",
       "    <tr>\n",
       "      <th>18561</th>\n",
       "      <td>1</td>\n",
       "      <td>1</td>\n",
       "    </tr>\n",
       "    <tr>\n",
       "      <th>18562</th>\n",
       "      <td>1</td>\n",
       "      <td>1</td>\n",
       "    </tr>\n",
       "  </tbody>\n",
       "</table>\n",
       "<p>18563 rows × 2 columns</p>\n",
       "</div>"
      ],
      "text/plain": [
       "       Y_test  Y_predict\n",
       "0           1          1\n",
       "1           1          1\n",
       "2           0          0\n",
       "3           1          1\n",
       "4           1          1\n",
       "...       ...        ...\n",
       "18558       0          1\n",
       "18559       1          1\n",
       "18560       1          1\n",
       "18561       1          1\n",
       "18562       1          1\n",
       "\n",
       "[18563 rows x 2 columns]"
      ]
     },
     "execution_count": 60,
     "metadata": {},
     "output_type": "execute_result"
    }
   ],
   "source": [
    "y_predict = lg.predict(x_test)\n",
    "df = pd.DataFrame({\"Y_test\": y_test , \"Y_predict\" : y_predict})\n",
    "df"
   ]
  },
  {
   "cell_type": "code",
   "execution_count": 130,
   "id": "136e66a0",
   "metadata": {},
   "outputs": [
    {
     "data": {
      "text/plain": [
       "array([1])"
      ]
     },
     "execution_count": 130,
     "metadata": {},
     "output_type": "execute_result"
    }
   ],
   "source": [
    "X=np.array([[1.0,147070.0,1,725.0,475437.0,7.0,2,11,2202.86,22.3,5.0,0.0,47766.0,658548.0,0.0]])\n",
    "X\n",
    "lg.predict(X)"
   ]
  },
  {
   "cell_type": "code",
   "execution_count": null,
   "id": "338fe4d3",
   "metadata": {},
   "outputs": [],
   "source": []
  },
  {
   "cell_type": "markdown",
   "id": "1d1466ff",
   "metadata": {},
   "source": [
    "# 2) KNN"
   ]
  },
  {
   "cell_type": "code",
   "execution_count": 61,
   "id": "5d60138a",
   "metadata": {},
   "outputs": [],
   "source": [
    "from sklearn.neighbors import KNeighborsClassifier\n",
    "knn = KNeighborsClassifier(n_neighbors=5)"
   ]
  },
  {
   "cell_type": "code",
   "execution_count": 62,
   "id": "d4ce33cc",
   "metadata": {},
   "outputs": [
    {
     "name": "stdout",
     "output_type": "stream",
     "text": [
      "              precision    recall  f1-score   support\n",
      "\n",
      "           0       0.57      0.30      0.40      4221\n",
      "           1       0.82      0.93      0.87     14342\n",
      "\n",
      "    accuracy                           0.79     18563\n",
      "   macro avg       0.69      0.62      0.63     18563\n",
      "weighted avg       0.76      0.79      0.76     18563\n",
      "\n"
     ]
    }
   ],
   "source": [
    "knn.fit(x_train,y_train)\n",
    "predict=knn.predict(x_test)\n",
    "from sklearn.metrics import classification_report\n",
    "report=classification_report(y_test,predict)\n",
    "print(report)\n"
   ]
  },
  {
   "cell_type": "code",
   "execution_count": 63,
   "id": "fd82354c",
   "metadata": {},
   "outputs": [
    {
     "name": "stdout",
     "output_type": "stream",
     "text": [
      "p 0.8198441430938209\n",
      "r 0.9315994979779668\n",
      "f1 0.8721564019713437\n",
      "a 0.7889888487852179\n"
     ]
    }
   ],
   "source": [
    "from sklearn.metrics import  precision_score, recall_score, f1_score, accuracy_score\n",
    "p = precision_score(y_test, predict, average='binary')\n",
    "r=recall_score(y_test,predict,average='binary')\n",
    "f1=f1_score(y_test, predict, average='binary')\n",
    "a=accuracy_score(y_test,predict)\n",
    "print('p' ,p)\n",
    "print('r', r)\n",
    "print('f1',f1)\n",
    "print('a',a)"
   ]
  },
  {
   "cell_type": "markdown",
   "id": "a70cf40c",
   "metadata": {},
   "source": [
    "# 3) Decision Tree"
   ]
  },
  {
   "cell_type": "code",
   "execution_count": 64,
   "id": "ffcad8fe",
   "metadata": {},
   "outputs": [
    {
     "name": "stdout",
     "output_type": "stream",
     "text": [
      "              precision    recall  f1-score   support\n",
      "\n",
      "           0       0.37      0.47      0.42      4221\n",
      "           1       0.83      0.76      0.80     14342\n",
      "\n",
      "    accuracy                           0.70     18563\n",
      "   macro avg       0.60      0.62      0.61     18563\n",
      "weighted avg       0.73      0.70      0.71     18563\n",
      "\n"
     ]
    }
   ],
   "source": [
    "from sklearn.tree import DecisionTreeClassifier\n",
    "model=DecisionTreeClassifier()\n",
    "model.fit(x_train,y_train)\n",
    "predict=model.predict(x_test)\n",
    "from sklearn.metrics import classification_report\n",
    "report=classification_report(y_test,predict)\n",
    "print(report)"
   ]
  },
  {
   "cell_type": "code",
   "execution_count": 65,
   "id": "91f693d0",
   "metadata": {},
   "outputs": [
    {
     "data": {
      "text/plain": [
       "<AxesSubplot:>"
      ]
     },
     "execution_count": 65,
     "metadata": {},
     "output_type": "execute_result"
    },
    {
     "data": {
      "image/png": "[encoded data removed]",
      "text/plain": [
       "<Figure size 842.4x595.44 with 1 Axes>"
      ]
     },
     "metadata": {},
     "output_type": "display_data"
    }
   ],
   "source": [
    "feature_importances = model.feature_importances_\n",
    "# Sort the feature importances from greatest to least using the sorted indices\n",
    "sorted_indices = feature_importances.argsort()[::-1]\n",
    "sorted_feature_names = data.columns[sorted_indices]\n",
    "sorted_importances = feature_importances[sorted_indices]\n",
    "\n",
    "# Create a bar plot of the feature importances\n",
    "sns.set(rc={'figure.figsize':(11.7,8.27)})\n",
    "sns.barplot(sorted_importances, sorted_feature_names)"
   ]
  },
  {
   "cell_type": "code",
   "execution_count": 66,
   "id": "d13f04c1",
   "metadata": {},
   "outputs": [
    {
     "data": {
      "text/plain": [
       "1.0"
      ]
     },
     "execution_count": 66,
     "metadata": {},
     "output_type": "execute_result"
    }
   ],
   "source": [
    "model.score(x_train,y_train)"
   ]
  },
  {
   "cell_type": "code",
   "execution_count": 67,
   "id": "91344e52",
   "metadata": {},
   "outputs": [
    {
     "data": {
      "text/plain": [
       "0.6980014006356731"
      ]
     },
     "execution_count": 67,
     "metadata": {},
     "output_type": "execute_result"
    }
   ],
   "source": [
    "model.score(x_test,y_test)"
   ]
  },
  {
   "cell_type": "code",
   "execution_count": 68,
   "id": "abd9d831",
   "metadata": {},
   "outputs": [],
   "source": [
    "from sklearn.metrics import  f1_score"
   ]
  },
  {
   "cell_type": "code",
   "execution_count": 69,
   "id": "facb0621",
   "metadata": {},
   "outputs": [
    {
     "name": "stdout",
     "output_type": "stream",
     "text": [
      "p 0.8311599696739954\n",
      "r 0.7643982708129968\n",
      "f1 0.7963823913990993\n",
      "a 0.6980014006356731\n"
     ]
    }
   ],
   "source": [
    "from sklearn.metrics import  precision_score, recall_score, f1_score, accuracy_score\n",
    "p = precision_score(y_test, predict, average='binary')\n",
    "r=recall_score(y_test,predict,average='binary')\n",
    "f1=f1_score(y_test, predict, average='binary')\n",
    "a=accuracy_score(y_test,predict)\n",
    "print('p' ,p)\n",
    "print('r', r)\n",
    "print('f1',f1)\n",
    "print('a',a)"
   ]
  },
  {
   "cell_type": "markdown",
   "id": "5a5a8cd5",
   "metadata": {},
   "source": [
    "# 4) Random Forest"
   ]
  },
  {
   "cell_type": "code",
   "execution_count": 70,
   "id": "ec0510a7",
   "metadata": {},
   "outputs": [],
   "source": [
    "from sklearn.ensemble import RandomForestClassifier"
   ]
  },
  {
   "cell_type": "code",
   "execution_count": 71,
   "id": "2ade2eaf",
   "metadata": {},
   "outputs": [],
   "source": [
    "rf = RandomForestClassifier(n_estimators= 8 , max_depth=10 ,max_features=15)"
   ]
  },
  {
   "cell_type": "code",
   "execution_count": 72,
   "id": "9065fecb",
   "metadata": {},
   "outputs": [
    {
     "name": "stdout",
     "output_type": "stream",
     "text": [
      "              precision    recall  f1-score   support\n",
      "\n",
      "           0       0.98      0.21      0.34      4221\n",
      "           1       0.81      1.00      0.89     14342\n",
      "\n",
      "    accuracy                           0.82     18563\n",
      "   macro avg       0.89      0.60      0.62     18563\n",
      "weighted avg       0.85      0.82      0.77     18563\n",
      "\n",
      "p 0.8106180665610143\n",
      "r 0.9986054943522521\n",
      "f1 0.8948453608247424\n",
      "a 0.8186715509346549\n"
     ]
    }
   ],
   "source": [
    "rf.fit(x_train , y_train)\n",
    "predict=rf.predict(x_test)\n",
    "from sklearn.metrics import  precision_score, recall_score, f1_score, accuracy_score\n",
    "from sklearn.metrics import classification_report\n",
    "p = precision_score(y_test, predict, average='binary')\n",
    "r=recall_score(y_test,predict,average='binary')\n",
    "f1=f1_score(y_test, predict, average='binary')\n",
    "a=accuracy_score(y_test,predict)\n",
    "report=classification_report(y_test,predict)\n",
    "print(report)\n",
    "print('p' ,p)\n",
    "print('r', r)\n",
    "print('f1',f1)\n",
    "print('a',a)"
   ]
  },
  {
   "cell_type": "markdown",
   "id": "9dc55b0a",
   "metadata": {},
   "source": [
    "# 5) NEURAL NETWORK"
   ]
  },
  {
   "cell_type": "code",
   "execution_count": 73,
   "id": "d05221fd",
   "metadata": {},
   "outputs": [],
   "source": [
    "from tensorflow.keras.models import Sequential\n",
    "from tensorflow.keras.layers import Dense\n",
    "\n",
    "import logging\n",
    "logging.getLogger(\"tensorflow\").setLevel(logging.ERROR)\n",
    "tf.autograph.set_verbosity(0)"
   ]
  },
  {
   "cell_type": "code",
   "execution_count": 74,
   "id": "a56b5cef",
   "metadata": {},
   "outputs": [],
   "source": [
    "model = Sequential(\n",
    "    [               \n",
    "        tf.keras.Input(shape=(15,)),\n",
    "        Dense(35, activation='relu',name='dense'),\n",
    "        Dense(25, activation ='relu',name='dense_1'),\n",
    "        Dense(15, activation='relu',name='dense_2'),\n",
    "        \n",
    "        Dense(1, activation='softmax',name='dense_3')#specify input size\n",
    "        \n",
    "       \n",
    "    ], name = \"my_model\" \n",
    ")  "
   ]
  },
  {
   "cell_type": "code",
   "execution_count": 75,
   "id": "bdf0096c",
   "metadata": {},
   "outputs": [
    {
     "name": "stdout",
     "output_type": "stream",
     "text": [
      "Model: \"my_model\"\n",
      "_________________________________________________________________\n",
      " Layer (type)                Output Shape              Param #   \n",
      "=================================================================\n",
      " dense (Dense)               (None, 35)                560       \n",
      "                                                                 \n",
      " dense_1 (Dense)             (None, 25)                900       \n",
      "                                                                 \n",
      " dense_2 (Dense)             (None, 15)                390       \n",
      "                                                                 \n",
      " dense_3 (Dense)             (None, 1)                 16        \n",
      "                                                                 \n",
      "=================================================================\n",
      "Total params: 1,866\n",
      "Trainable params: 1,866\n",
      "Non-trainable params: 0\n",
      "_________________________________________________________________\n"
     ]
    }
   ],
   "source": [
    "model.summary()"
   ]
  },
  {
   "cell_type": "code",
   "execution_count": 85,
   "id": "a872e952",
   "metadata": {},
   "outputs": [
    {
     "name": "stdout",
     "output_type": "stream",
     "text": [
      "Epoch 1/50\n",
      "3713/3713 [==============================] - 22s 3ms/step - loss: 0.4202 - accuracy: 0.7667\n",
      "Epoch 2/50\n",
      "3713/3713 [==============================] - 10s 3ms/step - loss: 0.4203 - accuracy: 0.7667\n",
      "Epoch 3/50\n",
      "3713/3713 [==============================] - 10s 3ms/step - loss: 0.4201 - accuracy: 0.7667\n",
      "Epoch 4/50\n",
      "3713/3713 [==============================] - 11s 3ms/step - loss: 0.4195 - accuracy: 0.7667\n",
      "Epoch 5/50\n",
      "3713/3713 [==============================] - 11s 3ms/step - loss: 0.4196 - accuracy: 0.7667\n",
      "Epoch 6/50\n",
      "3713/3713 [==============================] - 13s 3ms/step - loss: 0.4198 - accuracy: 0.7667\n",
      "Epoch 7/50\n",
      "3713/3713 [==============================] - 13s 3ms/step - loss: 0.4191 - accuracy: 0.7667\n",
      "Epoch 8/50\n",
      "3713/3713 [==============================] - 12s 3ms/step - loss: 0.4188 - accuracy: 0.7667\n",
      "Epoch 9/50\n",
      "3713/3713 [==============================] - 11s 3ms/step - loss: 0.4187 - accuracy: 0.7667\n",
      "Epoch 10/50\n",
      "3713/3713 [==============================] - 11s 3ms/step - loss: 0.4190 - accuracy: 0.7667\n",
      "Epoch 11/50\n",
      "3713/3713 [==============================] - 11s 3ms/step - loss: 0.4185 - accuracy: 0.7667\n",
      "Epoch 12/50\n",
      "3713/3713 [==============================] - 11s 3ms/step - loss: 0.4186 - accuracy: 0.7667\n",
      "Epoch 13/50\n",
      "3713/3713 [==============================] - 11s 3ms/step - loss: 0.4181 - accuracy: 0.7667\n",
      "Epoch 14/50\n",
      "3713/3713 [==============================] - 11s 3ms/step - loss: 0.4180 - accuracy: 0.7667\n",
      "Epoch 15/50\n",
      "3713/3713 [==============================] - 11s 3ms/step - loss: 0.4175 - accuracy: 0.7667\n",
      "Epoch 16/50\n",
      "3713/3713 [==============================] - 11s 3ms/step - loss: 0.4180 - accuracy: 0.7667\n",
      "Epoch 17/50\n",
      "3713/3713 [==============================] - 10s 3ms/step - loss: 0.4178 - accuracy: 0.7667\n",
      "Epoch 18/50\n",
      "3713/3713 [==============================] - 11s 3ms/step - loss: 0.4173 - accuracy: 0.7667\n",
      "Epoch 19/50\n",
      "3713/3713 [==============================] - 25s 7ms/step - loss: 0.4175 - accuracy: 0.7667\n",
      "Epoch 20/50\n",
      "3713/3713 [==============================] - 18s 5ms/step - loss: 0.4168 - accuracy: 0.7667\n",
      "Epoch 21/50\n",
      "3713/3713 [==============================] - 10s 3ms/step - loss: 0.4169 - accuracy: 0.7667\n",
      "Epoch 22/50\n",
      "3713/3713 [==============================] - 10s 3ms/step - loss: 0.4170 - accuracy: 0.7667\n",
      "Epoch 23/50\n",
      "3713/3713 [==============================] - 10s 3ms/step - loss: 0.4166 - accuracy: 0.7667\n",
      "Epoch 24/50\n",
      "3713/3713 [==============================] - 11s 3ms/step - loss: 0.4162 - accuracy: 0.7667\n",
      "Epoch 25/50\n",
      "3713/3713 [==============================] - 11s 3ms/step - loss: 0.4163 - accuracy: 0.7667\n",
      "Epoch 26/50\n",
      "3713/3713 [==============================] - 11s 3ms/step - loss: 0.4162 - accuracy: 0.7667\n",
      "Epoch 27/50\n",
      "3713/3713 [==============================] - 11s 3ms/step - loss: 0.4158 - accuracy: 0.7667\n",
      "Epoch 28/50\n",
      "3713/3713 [==============================] - 11s 3ms/step - loss: 0.4154 - accuracy: 0.7667\n",
      "Epoch 29/50\n",
      "3713/3713 [==============================] - 15s 4ms/step - loss: 0.4157 - accuracy: 0.7667\n",
      "Epoch 30/50\n",
      "3713/3713 [==============================] - 10s 3ms/step - loss: 0.4153 - accuracy: 0.7667\n",
      "Epoch 31/50\n",
      "3713/3713 [==============================] - 13s 4ms/step - loss: 0.4157 - accuracy: 0.7667\n",
      "Epoch 32/50\n",
      "3713/3713 [==============================] - 12s 3ms/step - loss: 0.4152 - accuracy: 0.7667\n",
      "Epoch 33/50\n",
      "3713/3713 [==============================] - 13s 3ms/step - loss: 0.4154 - accuracy: 0.7667\n",
      "Epoch 34/50\n",
      "3713/3713 [==============================] - 13s 3ms/step - loss: 0.4154 - accuracy: 0.7667\n",
      "Epoch 35/50\n",
      "3713/3713 [==============================] - 12s 3ms/step - loss: 0.4147 - accuracy: 0.7667\n",
      "Epoch 36/50\n",
      "3713/3713 [==============================] - 12s 3ms/step - loss: 0.4148 - accuracy: 0.7667\n",
      "Epoch 37/50\n",
      "3713/3713 [==============================] - 12s 3ms/step - loss: 0.4143 - accuracy: 0.7667\n",
      "Epoch 38/50\n",
      "3713/3713 [==============================] - 12s 3ms/step - loss: 0.4149 - accuracy: 0.7667\n",
      "Epoch 39/50\n",
      "3713/3713 [==============================] - 8s 2ms/step - loss: 0.4143 - accuracy: 0.7667\n",
      "Epoch 40/50\n",
      "3713/3713 [==============================] - 7s 2ms/step - loss: 0.4140 - accuracy: 0.7667\n",
      "Epoch 41/50\n",
      "3713/3713 [==============================] - 7s 2ms/step - loss: 0.4140 - accuracy: 0.7667\n",
      "Epoch 42/50\n",
      "3713/3713 [==============================] - 7s 2ms/step - loss: 0.4141 - accuracy: 0.7667\n",
      "Epoch 43/50\n",
      "3713/3713 [==============================] - 7s 2ms/step - loss: 0.4141 - accuracy: 0.7667\n",
      "Epoch 44/50\n",
      "3713/3713 [==============================] - 7s 2ms/step - loss: 0.4137 - accuracy: 0.7667\n",
      "Epoch 45/50\n",
      "3713/3713 [==============================] - 8s 2ms/step - loss: 0.4142 - accuracy: 0.7667\n",
      "Epoch 46/50\n",
      "3713/3713 [==============================] - 7s 2ms/step - loss: 0.4136 - accuracy: 0.7667\n",
      "Epoch 47/50\n",
      "3713/3713 [==============================] - 8s 2ms/step - loss: 0.4136 - accuracy: 0.7667\n",
      "Epoch 48/50\n",
      "3713/3713 [==============================] - 7s 2ms/step - loss: 0.4129 - accuracy: 0.7667\n",
      "Epoch 49/50\n",
      "3713/3713 [==============================] - 7s 2ms/step - loss: 0.4132 - accuracy: 0.7667\n",
      "Epoch 50/50\n",
      "3713/3713 [==============================] - 7s 2ms/step - loss: 0.4131 - accuracy: 0.7667\n"
     ]
    }
   ],
   "source": [
    "model.compile(\n",
    "    loss=tf.keras.losses.BinaryCrossentropy(),\n",
    "    optimizer=tf.keras.optimizers.Adam(0.001),\n",
    "    metrics=['accuracy']\n",
    ")\n",
    "\n",
    "history =model.fit(\n",
    "    x_train,y_train,\n",
    "    \n",
    "    epochs=50,\n",
    "    batch_size=20\n",
    "    \n",
    ")"
   ]
  },
  {
   "cell_type": "code",
   "execution_count": 86,
   "id": "2ff46f68",
   "metadata": {},
   "outputs": [
    {
     "name": "stdout",
     "output_type": "stream",
     "text": [
      "581/581 [==============================] - 6s 1ms/step\n"
     ]
    }
   ],
   "source": [
    "predict=model.predict(x_test)\n"
   ]
  },
  {
   "cell_type": "code",
   "execution_count": 87,
   "id": "af48a7ab",
   "metadata": {},
   "outputs": [
    {
     "name": "stdout",
     "output_type": "stream",
     "text": [
      "p 0.772612185530356\n",
      "r 1.0\n",
      "f1 0.8717216228536696\n",
      "a 0.772612185530356\n"
     ]
    }
   ],
   "source": [
    "from sklearn.metrics import  precision_score, recall_score, f1_score, accuracy_score\n",
    "p = precision_score(y_test, predict, average='binary')\n",
    "r=recall_score(y_test,predict,average='binary')\n",
    "f1=f1_score(y_test, predict, average='binary')\n",
    "a=accuracy_score(y_test,predict)\n",
    "print('p' ,p)\n",
    "print('r', r)\n",
    "print('f1',f1)\n",
    "print('a',a)"
   ]
  },
  {
   "cell_type": "code",
   "execution_count": 88,
   "id": "103a241f",
   "metadata": {},
   "outputs": [
    {
     "name": "stdout",
     "output_type": "stream",
     "text": [
      "[1 1 0 ... 1 1 1]\n"
     ]
    }
   ],
   "source": [
    "print(y_test)"
   ]
  },
  {
   "cell_type": "code",
   "execution_count": 89,
   "id": "a2b40207",
   "metadata": {},
   "outputs": [
    {
     "name": "stdout",
     "output_type": "stream",
     "text": [
      "[[1.]\n",
      " [1.]\n",
      " [1.]\n",
      " ...\n",
      " [1.]\n",
      " [1.]\n",
      " [1.]]\n"
     ]
    }
   ],
   "source": [
    "print(predict)"
   ]
  },
  {
   "cell_type": "code",
   "execution_count": 90,
   "id": "584aa780",
   "metadata": {},
   "outputs": [
    {
     "data": {
      "text/html": [
       "<div>\n",
       "<style scoped>\n",
       "    .dataframe tbody tr th:only-of-type {\n",
       "        vertical-align: middle;\n",
       "    }\n",
       "\n",
       "    .dataframe tbody tr th {\n",
       "        vertical-align: top;\n",
       "    }\n",
       "\n",
       "    .dataframe thead th {\n",
       "        text-align: right;\n",
       "    }\n",
       "</style>\n",
       "<table border=\"1\" class=\"dataframe\">\n",
       "  <thead>\n",
       "    <tr style=\"text-align: right;\">\n",
       "      <th></th>\n",
       "      <th>Y_test</th>\n",
       "      <th>Y_predict</th>\n",
       "    </tr>\n",
       "  </thead>\n",
       "  <tbody>\n",
       "    <tr>\n",
       "      <th>0</th>\n",
       "      <td>1</td>\n",
       "      <td>1.0</td>\n",
       "    </tr>\n",
       "    <tr>\n",
       "      <th>1</th>\n",
       "      <td>1</td>\n",
       "      <td>1.0</td>\n",
       "    </tr>\n",
       "    <tr>\n",
       "      <th>2</th>\n",
       "      <td>0</td>\n",
       "      <td>1.0</td>\n",
       "    </tr>\n",
       "    <tr>\n",
       "      <th>3</th>\n",
       "      <td>1</td>\n",
       "      <td>1.0</td>\n",
       "    </tr>\n",
       "    <tr>\n",
       "      <th>4</th>\n",
       "      <td>1</td>\n",
       "      <td>1.0</td>\n",
       "    </tr>\n",
       "    <tr>\n",
       "      <th>5</th>\n",
       "      <td>1</td>\n",
       "      <td>1.0</td>\n",
       "    </tr>\n",
       "    <tr>\n",
       "      <th>6</th>\n",
       "      <td>1</td>\n",
       "      <td>1.0</td>\n",
       "    </tr>\n",
       "    <tr>\n",
       "      <th>7</th>\n",
       "      <td>1</td>\n",
       "      <td>1.0</td>\n",
       "    </tr>\n",
       "    <tr>\n",
       "      <th>8</th>\n",
       "      <td>1</td>\n",
       "      <td>1.0</td>\n",
       "    </tr>\n",
       "    <tr>\n",
       "      <th>9</th>\n",
       "      <td>1</td>\n",
       "      <td>1.0</td>\n",
       "    </tr>\n",
       "    <tr>\n",
       "      <th>10</th>\n",
       "      <td>1</td>\n",
       "      <td>1.0</td>\n",
       "    </tr>\n",
       "    <tr>\n",
       "      <th>11</th>\n",
       "      <td>1</td>\n",
       "      <td>1.0</td>\n",
       "    </tr>\n",
       "    <tr>\n",
       "      <th>12</th>\n",
       "      <td>0</td>\n",
       "      <td>1.0</td>\n",
       "    </tr>\n",
       "    <tr>\n",
       "      <th>13</th>\n",
       "      <td>1</td>\n",
       "      <td>1.0</td>\n",
       "    </tr>\n",
       "    <tr>\n",
       "      <th>14</th>\n",
       "      <td>0</td>\n",
       "      <td>1.0</td>\n",
       "    </tr>\n",
       "    <tr>\n",
       "      <th>15</th>\n",
       "      <td>0</td>\n",
       "      <td>1.0</td>\n",
       "    </tr>\n",
       "    <tr>\n",
       "      <th>16</th>\n",
       "      <td>0</td>\n",
       "      <td>1.0</td>\n",
       "    </tr>\n",
       "    <tr>\n",
       "      <th>17</th>\n",
       "      <td>1</td>\n",
       "      <td>1.0</td>\n",
       "    </tr>\n",
       "    <tr>\n",
       "      <th>18</th>\n",
       "      <td>1</td>\n",
       "      <td>1.0</td>\n",
       "    </tr>\n",
       "    <tr>\n",
       "      <th>19</th>\n",
       "      <td>1</td>\n",
       "      <td>1.0</td>\n",
       "    </tr>\n",
       "    <tr>\n",
       "      <th>20</th>\n",
       "      <td>1</td>\n",
       "      <td>1.0</td>\n",
       "    </tr>\n",
       "    <tr>\n",
       "      <th>21</th>\n",
       "      <td>0</td>\n",
       "      <td>1.0</td>\n",
       "    </tr>\n",
       "    <tr>\n",
       "      <th>22</th>\n",
       "      <td>1</td>\n",
       "      <td>1.0</td>\n",
       "    </tr>\n",
       "    <tr>\n",
       "      <th>23</th>\n",
       "      <td>1</td>\n",
       "      <td>1.0</td>\n",
       "    </tr>\n",
       "    <tr>\n",
       "      <th>24</th>\n",
       "      <td>1</td>\n",
       "      <td>1.0</td>\n",
       "    </tr>\n",
       "    <tr>\n",
       "      <th>25</th>\n",
       "      <td>1</td>\n",
       "      <td>1.0</td>\n",
       "    </tr>\n",
       "    <tr>\n",
       "      <th>26</th>\n",
       "      <td>1</td>\n",
       "      <td>1.0</td>\n",
       "    </tr>\n",
       "    <tr>\n",
       "      <th>27</th>\n",
       "      <td>1</td>\n",
       "      <td>1.0</td>\n",
       "    </tr>\n",
       "    <tr>\n",
       "      <th>28</th>\n",
       "      <td>1</td>\n",
       "      <td>1.0</td>\n",
       "    </tr>\n",
       "    <tr>\n",
       "      <th>29</th>\n",
       "      <td>1</td>\n",
       "      <td>1.0</td>\n",
       "    </tr>\n",
       "  </tbody>\n",
       "</table>\n",
       "</div>"
      ],
      "text/plain": [
       "    Y_test  Y_predict\n",
       "0        1        1.0\n",
       "1        1        1.0\n",
       "2        0        1.0\n",
       "3        1        1.0\n",
       "4        1        1.0\n",
       "5        1        1.0\n",
       "6        1        1.0\n",
       "7        1        1.0\n",
       "8        1        1.0\n",
       "9        1        1.0\n",
       "10       1        1.0\n",
       "11       1        1.0\n",
       "12       0        1.0\n",
       "13       1        1.0\n",
       "14       0        1.0\n",
       "15       0        1.0\n",
       "16       0        1.0\n",
       "17       1        1.0\n",
       "18       1        1.0\n",
       "19       1        1.0\n",
       "20       1        1.0\n",
       "21       0        1.0\n",
       "22       1        1.0\n",
       "23       1        1.0\n",
       "24       1        1.0\n",
       "25       1        1.0\n",
       "26       1        1.0\n",
       "27       1        1.0\n",
       "28       1        1.0\n",
       "29       1        1.0"
      ]
     },
     "execution_count": 90,
     "metadata": {},
     "output_type": "execute_result"
    }
   ],
   "source": [
    "\n",
    "df = pd.DataFrame({\"Y_test\": y_test , \"Y_predict\" : predict.flatten()})\n",
    "df.head(30)"
   ]
  },
  {
   "cell_type": "code",
   "execution_count": 91,
   "id": "e51df741",
   "metadata": {},
   "outputs": [],
   "source": [
    "import pickle"
   ]
  },
  {
   "cell_type": "code",
   "execution_count": 99,
   "id": "12337e0d",
   "metadata": {},
   "outputs": [],
   "source": [
    "# data = {\"model\": lg}\n",
    "# with open('saved_steps.pkl', 'wb') as file:\n",
    "#     pickle.dump(data, file)\n"
   ]
  },
  {
   "cell_type": "code",
   "execution_count": 132,
   "id": "bc59e540",
   "metadata": {},
   "outputs": [],
   "source": [
    "# with open('saved_steps.pkl', 'rb') as file:\n",
    "#     data = pickle.load(file)\n",
    "\n",
    "# regressor_loaded = data[\"model\"]\n"
   ]
  },
  {
   "cell_type": "code",
   "execution_count": 140,
   "id": "0f15c003",
   "metadata": {},
   "outputs": [],
   "source": [
    "import pickle\n",
    "# now you can save it to a file\n",
    "file = 'ML_Model1.pkl'\n",
    "with open(file, 'wb') as f:\n",
    "    pickle.dump(lg, f)"
   ]
  },
  {
   "cell_type": "code",
   "execution_count": 141,
   "id": "f5e89ec4",
   "metadata": {},
   "outputs": [],
   "source": [
    "with open(file, 'rb') as f:\n",
    "    k = pickle.load(f)"
   ]
  },
  {
   "cell_type": "code",
   "execution_count": 144,
   "id": "20626bcc",
   "metadata": {},
   "outputs": [
    {
     "name": "stdout",
     "output_type": "stream",
     "text": [
      "[1]\n"
     ]
    }
   ],
   "source": [
    "cy = k.predict([[1,147070.0,1,725.0,475437.0,7.0,2,11,2202.86,22.3,5.0,0.0,47766.0,658548.0,0.0]])\n",
    "print(cy)\n"
   ]
  },
  {
   "cell_type": "code",
   "execution_count": 135,
   "id": "24a0f164",
   "metadata": {},
   "outputs": [
    {
     "data": {
      "text/plain": [
       "array([1])"
      ]
     },
     "execution_count": 135,
     "metadata": {},
     "output_type": "execute_result"
    }
   ],
   "source": [
    "# Current Loan Amount, Term, Credit Score, Annual Income, Years in current job, Home Ownership, Purpose, Monthly Debt, \n",
    "# Years of Credit History, Number of Open Accounts, Number of Credit Problems, Current Credit Balance, Maximum Open Credit,\n",
    "# Bankruptcies, Tax Liens, Loan Status. \n",
    "X=np.array([[1.0,147070.0,1,725.0,475437.0,7.0,2,11,2202.86,22.3,5.0,0.0,47766.0,658548.0,0.0]])\n",
    "X\n",
    "lg.predict(X)\n"
   ]
  },
  {
   "cell_type": "code",
   "execution_count": null,
   "id": "866260b3",
   "metadata": {},
   "outputs": [],
   "source": []
  },
  {
   "cell_type": "code",
   "execution_count": null,
   "id": "5e3b68b0",
   "metadata": {},
   "outputs": [],
   "source": []
  }
 ],
 "metadata": {
  "kernelspec": {
   "display_name": "Python 3 (ipykernel)",
   "language": "python",
   "name": "python3"
  },
  "language_info": {
   "codemirror_mode": {
    "name": "ipython",
    "version": 3
   },
   "file_extension": ".py",
   "mimetype": "text/x-python",
   "name": "python",
   "nbconvert_exporter": "python",
   "pygments_lexer": "ipython3",
   "version": "3.9.12"
  }
 },
 "nbformat": 4,
 "nbformat_minor": 5
}
